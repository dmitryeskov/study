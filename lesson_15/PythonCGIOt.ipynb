{
 "cells": [
  {
   "cell_type": "code",
   "execution_count": null,
   "id": "894c8cfb-e8bf-42b3-b60f-31296a986b29",
   "metadata": {},
   "outputs": [],
   "source": [
    "CGI (Common Gateway Interface)\n",
    "CGI — один из первых стандартов, используемых для создания динамических веб-страниц. Он определяет способ взаимодействия веб-сервера с\n",
    "внешними программами, которые могут быть написаны на любом языке программирования, включая Python. Процесс работы с CGI выглядит следующим образом:\n",
    "1.\tВеб-сервер получает HTTP-запрос от клиента.\n",
    "2.\tВеб-сервер запускает внешнюю программу (CGI-скрипт) и передает ей данные запроса через переменные окружения и стандартный ввод.\n",
    "3.\tCGI-скрипт обрабатывает запрос, генерирует HTML-код и выводит его на стандартный вывод.\n",
    "4.\tВеб-сервер получает выходные данные скрипта и отправляет их клиенту.\n",
    "Этот метод имеет несколько недостатков:\n",
    "•\tКаждый запрос приводит к созданию нового процесса, что делает его медленным и ресурсоемким.\n",
    "•\tОграниченная возможность масштабирования.\n",
    "WSGI (Web Server Gateway Interface)\n",
    "WSGI был разработан как улучшение для CGI, чтобы преодолеть его недостатки. Это стандартный интерфейс между веб-серверами и\n",
    "веб-приложениями или фреймворками в Python. Основные особенности WSGI:\n",
    "1.\tОдноразовый запуск: Веб-сервер запускает WSGI-приложение один раз и поддерживает его в памяти.\n",
    "2.\tОбработка запросов: Запросы обрабатываются в пределах одного процесса, что существенно улучшает производительность.\n",
    "3.\tСовместимость: WSGI обеспечивает совместимость между различными веб-серверами и веб-фреймворками.\n"
   ]
  },
  {
   "cell_type": "code",
   "execution_count": null,
   "id": "33c032fa-5775-438c-bbcc-4cdddd068dee",
   "metadata": {},
   "outputs": [],
   "source": [
    "пример"
   ]
  },
  {
   "cell_type": "code",
   "execution_count": null,
   "id": "5d02f331-b207-42e4-8c03-1ce7664c10d1",
   "metadata": {},
   "outputs": [],
   "source": [
    "def application(env, start_reponse):\n",
    "    status = '200 OK'\n",
    "    headers = [('Content-type', 'text/plain; charset=utf-8')]\n",
    "    start_reponse(status, headers)\n",
    "    return [b\"Hi\"]"
   ]
  },
  {
   "cell_type": "code",
   "execution_count": null,
   "id": "53b7d9b9-d290-4a48-80ba-0adfae235a33",
   "metadata": {},
   "outputs": [],
   "source": [
    "import cgi\n",
    "import cgitb\n",
    "\n",
    "# Включение отладки\n",
    "cgitb.enable()\n",
    "\n",
    "# Получение данных из формы\n",
    "form = cgi.FieldStorage()\n",
    "\n",
    "# Чтение данных формы\n",
    "name = form.getvalue(\"name\", \"Guest\")\n",
    "\n",
    "# Заголовки HTTP\n",
    "print(\"Content-Type: text/html; charset=utf-8\\n\")\n",
    "print(\"<html>\")\n",
    "print(\"<head><title>CGI Example</title></head>\")\n",
    "print(\"<body>\")\n",
    "print(f\"<h1>Hello, {name}!</h1>\")\n",
    "print(\"<form method='post' action='/cgi-bin/your_script.py'>\")\n",
    "print(\"Name: <input type='text' name='name'>\")\n",
    "print(\"<input type='submit' value='Submit'>\")\n",
    "print(\"</form>\")\n",
    "print(\"</body>\")\n",
    "print(\"</html>\")\n"
   ]
  },
  {
   "cell_type": "code",
   "execution_count": null,
   "id": "dcb0d449-f26d-49e8-9dae-9b3060765d50",
   "metadata": {},
   "outputs": [],
   "source": [
    "from wsgiref.simple_server import make_server\n",
    "\n",
    "def simple_app(env, start_response):\n",
    "    ..\n",
    "    start_response(status, headers)\n",
    "    return [b\"dfg\"]\n",
    "\n",
    "if __name__ == '__main__':\n",
    "    with make_server('', 8000, simple_app) as http:\n",
    "        http.serve_forever()\n"
   ]
  },
  {
   "cell_type": "code",
   "execution_count": null,
   "id": "c4cc08ac-3401-4cd5-a77f-8ee7ed4adad5",
   "metadata": {},
   "outputs": [],
   "source": [
    "ASGI (Asynchronous Server Gateway Interface)\n",
    "ASGI — это современный стандарт, который поддерживает асинхронное программирование и\n",
    "является следующим шагом в эволюции после WSGI. ASGI позволяет создавать высокопроизводительные\n",
    "и асинхронные веб-приложения. Основные особенности ASGI:\n",
    "1.\tАсинхронность: Поддержка асинхронных функций, что позволяет лучше использовать ресурсы сервера и обрабатывать большее количество запросов.\n",
    "2.\tГибкость: Поддержка различных протоколов, включая HTTP, WebSockets и другие.\n",
    "3.\tМасштабируемость: Улучшенная масштабируемость по сравнению с WSGI.\n"
   ]
  },
  {
   "cell_type": "code",
   "execution_count": null,
   "id": "052e17be-c8f0-4481-8754-2133edb155f7",
   "metadata": {},
   "outputs": [],
   "source": [
    "пример"
   ]
  },
  {
   "cell_type": "code",
   "execution_count": null,
   "id": "3368e2ac-04fb-42f8-8688-569c16c31271",
   "metadata": {},
   "outputs": [],
   "source": [
    "async def app(scope, receive, send):\n",
    "    assert scope['type'] = 'http'\n",
    "\n",
    "    await send({\n",
    "        'type': 'http.response.start',\n",
    "        'status': 200,\n",
    "        'headers': [\n",
    "            (b'content-type',b'text/plain')\n",
    "        ],\n",
    "    })\n",
    "\n",
    "    await send({\n",
    "        'type': 'http.response.body',\n",
    "        'body': b'Hi'\n",
    "    })"
   ]
  },
  {
   "cell_type": "code",
   "execution_count": null,
   "id": "ce525209-0e6d-445d-adf7-1dbb9cc5f05e",
   "metadata": {},
   "outputs": [],
   "source": [
    "import asyncio\n",
    "from uvicorn import Config, Server\n",
    "# example.py\n",
    "async def app(scope, receive, send):\n",
    "    \"\"\"\n",
    "    Простое ASGI-приложение.\n",
    "\n",
    "    scope: содержит информацию о запросе.\n",
    "    receive: принимает события.\n",
    "    send: отправляет события.\n",
    "    \"\"\"\n",
    "    if scope['type'] == 'http':\n",
    "        # Формируем HTTP-ответ\n",
    "        await send({\n",
    "            'type': 'http.response.start',\n",
    "            'status': 200,\n",
    "            'headers': [\n",
    "                (b'content-type', b'text/plain'),\n",
    "            ],\n",
    "        })\n",
    "        await send({\n",
    "            'type': 'http.response.body',\n",
    "            'body': b'Hello, ASGI!',\n",
    "        })\n",
    "if __name__ == \"__main__\":\n",
    "    config = Config(app=app, host=\"127.0.0.1\", port=8000)\n",
    "    server = Server(config)\n",
    "    asyncio.run(server.serve())\n",
    "\n"
   ]
  },
  {
   "cell_type": "code",
   "execution_count": null,
   "id": "5cbd0f2f-585e-4eb3-a97d-7d7aead12604",
   "metadata": {},
   "outputs": [],
   "source": [
    "Динамическое веб-разработка на Python: от CGI до ASGI\n",
    "Динамическая веб-разработка включает создание веб-страниц, которые могут изменять свое содержимое в \n",
    "зависимости от взаимодействий пользователя, данных из баз данных и других факторов. Этот процесс значительно \n",
    "эволюционировал, особенно в контексте языка программирования Python. Рассмотрим эволюцию от CGI до ASGI.\n",
    "CGI (Common Gateway Interface)\n",
    "Обзор: CGI — один из самых ранних методов создания динамического веб-контента. Он определяет стандарт, по которому \n",
    "веб-серверы могут выполнять внешние программы для генерации динамического контента. Эти программы могут быть написаны\n",
    "на различных языках программирования, включая Python.\n",
    "Как это работает:\n",
    "1.\tОбработка запроса: Когда веб-сервер получает HTTP-запрос, он может передать его CGI-скрипту.\n",
    "2.\tВыполнение скрипта: Веб-сервер запускает CGI-скрипт и передает данные запроса через переменные окружения и стандартный ввод.\n",
    "3.\tГенерация ответа: CGI-скрипт обрабатывает запрос, генерирует HTML-код и выводит его на стандартный вывод.\n",
    "4.\tОтправка ответа: Веб-сервер получает выходные данные скрипта и отправляет их клиенту.\n",
    "Недостатки:\n",
    "•\tКаждый запрос запускает новый процесс, что делает метод медленным и ресурсоемким.\n",
    "•\tОграниченные возможности масштабирования.\n",
    "WSGI (Web Server Gateway Interface)\n",
    "Обзор: WSGI был разработан для преодоления недостатков CGI. Это стандартный интерфейс между веб-серверами и \n",
    "    веб-приложениями или фреймворками в Python. Он обеспечивает более эффективную обработку запросов и совместимость между различными веб-серверами и фреймворками.\n",
    "Как это работает:\n",
    "1.\tЗапуск приложения: Веб-сервер запускает WSGI-приложение один раз и поддерживает его в памяти.\n",
    "2.\tОбработка запросов: Запросы обрабатываются в пределах одного процесса, что значительно улучшает производительность.\n"
   ]
  },
  {
   "cell_type": "code",
   "execution_count": null,
   "id": "46754976-9f9d-4055-9b8e-ef8bc1e865cc",
   "metadata": {},
   "outputs": [],
   "source": [
    "FastCGI\n",
    "FastCGI (Fast Common Gateway Interface) — это улучшенная версия CGI, разработанная для решения проблем производительности и масштабируемости,\n",
    "присущих традиционному CGI. FastCGI сохраняет простоту использования CGI, но значительно улучшает эффективность за счёт повторного использования \n",
    "процессов и уменьшения накладных расходов.\n",
    "Основные характеристики FastCGI\n",
    "1.\tДолгоживущие процессы: В отличие от CGI, где каждый запрос запускает новый процесс, FastCGI использует долгоживущие процессы, которые могут \n",
    "обрабатывать несколько запросов.\n",
    "2.\tСокращение накладных расходов: Благодаря долгоживущим процессам сокращаются накладные расходы на создание и завершение процессов.\n",
    "3.\tУлучшенная масштабируемость: FastCGI позволяет обрабатывать большее количество запросов за меньшее время, что повышает масштабируемость приложений.\n",
    "4.\tПараллельная обработка: Возможность запуска нескольких процессов FastCGI для параллельной обработки запросов.\n",
    "Принцип работы FastCGI\n",
    "1.\tЗапуск процессов: Веб-сервер запускает один или несколько процессов FastCGI заранее, и они остаются активными для обработки будущих запросов.\n",
    "2.\tПолучение запроса: Когда веб-сервер получает HTTP-запрос, он передает его одному из активных процессов FastCGI.\n",
    "3.\tОбработка запроса: Процесс FastCGI обрабатывает запрос, взаимодействует с базами данных или выполняет другие необходимые действия.\n",
    "4.\tГенерация ответа: Процесс FastCGI генерирует ответ и отправляет его обратно веб-серверу.\n",
    "5.\tПередача ответа клиенту: Веб-сервер получает ответ от процесса FastCGI и отправляет его клиенту.\n"
   ]
  },
  {
   "cell_type": "code",
   "execution_count": null,
   "id": "1ca909d4-dba1-4708-8180-645807574d25",
   "metadata": {},
   "outputs": [],
   "source": [
    "пример"
   ]
  },
  {
   "cell_type": "code",
   "execution_count": null,
   "id": "a36bbaef-aac4-452c-96ad-87f59d90098d",
   "metadata": {},
   "outputs": [],
   "source": [
    "import cgi\n",
    "\n",
    "print(\"Content-Type: text/html\")\n",
    "print()\n",
    "print(\"<html><head><title>CGI test</title></head>\")\n",
    "print(\"<body><h1>hi</h1></body></html>\")\n",
    "\n"
   ]
  },
  {
   "cell_type": "code",
   "execution_count": null,
   "id": "2f6459fd-4bef-4622-a03e-3f5490b5b8de",
   "metadata": {},
   "outputs": [],
   "source": [
    "from flup.server.fcgi import WSGIServer\n",
    "\n",
    "def app(environ, start_response):\n",
    "    \"\"\"\n",
    "    Простое WSGI-приложение, работающее через FastCGI.\n",
    "    \"\"\"\n",
    "    # Формируем HTTP-ответ\n",
    "    start_response('200 OK', [('Content-Type', 'text/plain')])\n",
    "    return [b\"Hello, FastCGI!\"]\n",
    "\n",
    "if __name__ == '__main__':\n",
    "    # Запуск сервера FastCGI\n",
    "    WSGIServer(app).run()\n"
   ]
  },
  {
   "cell_type": "code",
   "execution_count": null,
   "id": "49087256-10c9-46b1-bf5c-db64faba2a74",
   "metadata": {},
   "outputs": [],
   "source": [
    "Преимущества FastCGI\n",
    "1.\tПовышенная производительность: Долгоживущие процессы значительно уменьшают \n",
    "накладные расходы, связанные с запуском новых процессов для каждого запроса.\n",
    "2.\tЛучшая масштабируемость: Возможность обрабатывать большее количество запросов за меньшее время.\n",
    "3.\tПоддержка различных языков: FastCGI может использоваться с различными языками программирования, включая Python, Perl, PHP и другие.\n",
    "Недостатки FastCGI\n",
    "1.\tСложность настройки: Настройка FastCGI может быть более сложной по сравнению с традиционным CGI.\n",
    "2.\tПотребление памяти: Долгоживущие процессы могут потреблять больше памяти по сравнению с традиционным CGI.\n"
   ]
  },
  {
   "cell_type": "code",
   "execution_count": null,
   "id": "8e399423-2509-47f1-9d34-5089da3f87bb",
   "metadata": {},
   "outputs": [],
   "source": [
    "WSGI, Gunicorn и uWSGI\n",
    "В мире веб-разработки на Python, WSGI является ключевым стандартом, который обеспечивает \n",
    "взаимодействие между веб-серверами и веб-приложениями или фреймворками. Важную роль также играют \n",
    "такие инструменты, как Gunicorn и uWSGI, которые являются серверами приложений WSGI и предлагают различные возможности \n",
    "для разворачивания и масштабирования веб-приложений.\n",
    "WSGI (Web Server Gateway Interface)\n",
    "Обзор: WSGI (Web Server Gateway Interface) — это стандартный интерфейс для связи между веб-серверами и\n",
    "веб-приложениями или фреймворками, написанными на Python. Он был разработан для улучшения взаимодействия между различными \n",
    "веб-серверами и веб-приложениями, обеспечивая унифицированный подход к их интеграции.\n",
    "Как это работает:\n",
    "1.\tЗапуск приложения: Веб-сервер запускает WSGI-приложение один раз и поддерживает его в памяти.\n",
    "2.\tОбработка запросов: Запросы обрабатываются в пределах одного процесса, что значительно улучшает производительность.\n",
    "3.\tВызов функции приложения: Веб-сервер вызывает функцию приложения и передает ей объект окружения и функцию для начала ответа.\n"
   ]
  },
  {
   "cell_type": "code",
   "execution_count": null,
   "id": "68bdfb4e-b459-4671-ae64-94d4a8d493a3",
   "metadata": {},
   "outputs": [],
   "source": [
    "пример"
   ]
  },
  {
   "cell_type": "code",
   "execution_count": null,
   "id": "963d306c-698d-41db-939b-1ad3f0ba0513",
   "metadata": {},
   "outputs": [],
   "source": [
    "from flup.server.fcgi import WSFIServer\n",
    "\n",
    "def application(env, start_response):\n",
    "    start_response('200 OK', [('Content-Type', 'text/html')])\n",
    "    return [b'Hi']\n",
    "    \n",
    "if __name__ == '__main__':\n",
    "    WSGIServer(application).run()"
   ]
  },
  {
   "cell_type": "code",
   "execution_count": null,
   "id": "75597a69-53c6-411f-aba4-9b37e606a57b",
   "metadata": {},
   "outputs": [],
   "source": [
    "Gunicorn\n",
    "Обзор: Gunicorn (Green Unicorn) — это популярный сервер WSGI для Python-приложений. Он предназначен для работы с \n",
    "любым фреймворком, совместимым с WSGI, и обеспечивает высокую производительность и масштабируемость.\n",
    "Особенности:\n",
    "•\tЛегкость настройки: Gunicorn легко настраивается и запускается.\n",
    "•\tПоддержка параллелизма: Поддерживает различные модели параллелизма, такие как многопоточность и многопроцессорность.\n",
    "•\tСовместимость: Работает с любым WSGI-совместимым фреймворком.\n",
    "Пример использования Gunicorn:\n",
    "gunicorn myapp:application\n",
    "Здесь myapp — это модуль, содержащий WSGI-приложение, а application — это имя функции приложения.\n",
    "uWSGI\n",
    "Обзор: uWSGI — это сервер приложений, который поддерживает множество протоколов, включая WSGI. Он предоставляет обширные \n",
    "возможности для настройки и оптимизации производительности, что делает его популярным выбором для разворачивания Python-приложений.\n",
    "Особенности:\n",
    "•\tВысокая производительность: Оптимизирован для работы с высоконагруженными приложениями.\n",
    "•\tГибкость: Поддержка множества протоколов и широкий набор опций для настройки.\n",
    "•\tМасштабируемость: Поддерживает как многопроцессорность, так и многопоточность.\n",
    "Пример конфигурации uWSGI: Конфигурационный файл uwsgi.ini:\n",
    "ini\n",
    "[uwsgi]\n",
    "module = myapp:application\n",
    "master = true\n",
    "processes = 4\n",
    "socket = 127.0.0.1:8000\n",
    "chmod-socket = 660\n",
    "vacuum = true\n",
    "die-on-term = true\n",
    "Запуск uWSGI с использованием конфигурационного файла:\n",
    "sh\n",
    "uwsgi --ini uwsgi.ini\n"
   ]
  },
  {
   "cell_type": "code",
   "execution_count": null,
   "id": "05443a21-afeb-4d59-adcf-1ac1798efb9f",
   "metadata": {},
   "outputs": [],
   "source": [
    "ASGI, Starlette и uvicorn\n",
    "В современном мире веб-разработки на Python, ASGI (Asynchronous Server Gateway Interface) является следующим \n",
    "шагом в эволюции после WSGI, поддерживая асинхронные веб-приложения. Наряду с ASGI, важную роль играют фреймворк \n",
    "Starlette и сервер приложений uvicorn, которые обеспечивают высокопроизводительные и масштабируемые решения.\n",
    "ASGI (Asynchronous Server Gateway Interface)\n",
    "Обзор: ASGI (Asynchronous Server Gateway Interface) — это спецификация, разработанная для поддержки асинхронных \n",
    "веб-приложений. ASGI расширяет возможности WSGI, добавляя поддержку асинхронных вызовов, что позволяет обрабатывать большое количество \n",
    "одновременных соединений с меньшими затратами ресурсов.\n",
    "Основные характеристики:\n",
    "•\tАсинхронность: Поддержка асинхронных функций и библиотек, что позволяет создавать высокопроизводительные приложения.\n",
    "•\tПоддержка протоколов: Помимо HTTP, ASGI поддерживает WebSockets и другие протоколы.\n",
    "•\tМасштабируемость: Улучшенная масштабируемость по сравнению с WSGI благодаря возможности обработки большего числа запросов одновременно.\n",
    "Пример ASGI-приложения на Python:\n",
    "python\n",
    "\n",
    "Starlette\n",
    "Обзор: Starlette — это легковесный ASGI-фреймворк для создания веб-приложений и API. Он был разработан для обеспечения\n",
    "высокопроизводительных и асинхронных веб-приложений с минимальной нагрузкой.\n",
    "Основные характеристики:\n",
    "•\tВысокая производительность: Оптимизирован для асинхронной работы и высокой производительности.\n",
    "•\tЛегкость: Минимальное ядро с возможностью расширения через плагины и дополнительные компоненты.\n",
    "•\tПростота использования: Удобный и интуитивно понятный API.\n"
   ]
  },
  {
   "cell_type": "code",
   "execution_count": null,
   "id": "2befac0f-717b-4cf7-8d93-b4bdc8169a05",
   "metadata": {},
   "outputs": [],
   "source": [
    "пример"
   ]
  },
  {
   "cell_type": "code",
   "execution_count": null,
   "id": "e3ed7b45-7f60-4b29-adde-b129554a7e2f",
   "metadata": {},
   "outputs": [],
   "source": [
    "from starlette.applications import Starlette\n",
    "from starlette.responses import PlainTextResponse\n",
    "from starlette.routing import Route\n",
    "\n",
    "async def homepage(request):\n",
    "    return PlainTextResponse('Hi')\n",
    "    \n",
    "app = Starlette(debug=True, routes=[\n",
    "    Route('/', homepage),\n",
    "])\n",
    "\n",
    "uvicorn app:app --reload\n"
   ]
  },
  {
   "cell_type": "code",
   "execution_count": null,
   "id": "2ef5af3a-f420-42eb-a223-6d1ba863e814",
   "metadata": {},
   "outputs": [],
   "source": [
    "uvicorn\n",
    "Обзор: uvicorn — это высокопроизводительный ASGI-сервер, основанный на библиотеке uvloop и HTTP-tools. \n",
    "Он предназначен для запуска асинхронных веб-приложений и API.\n",
    "Основные характеристики:\n",
    "•\tВысокая производительность: Использует uvloop для быстрого цикла событий и HTTP-tools для обработки запросов.\n",
    "•\tПоддержка HTTP/2 и WebSockets: Поддерживает современные протоколы для улучшения производительности и функциональности.\n",
    "•\tЛегкость настройки: Прост в установке и настройке.\n",
    "Пример использования uvicorn: Запуск приложения Starlette с помощью uvicorn:\n",
    "sh\n",
    "uvicorn myapp:app --reload\n",
    "Здесь myapp — это модуль, содержащий приложение Starlette, а app — это имя приложения.\n",
    "Заключение\n",
    "ASGI предоставляет современный интерфейс для асинхронных веб-приложений, расширяя возможности, предложенные WSGI. \n",
    "    Starlette — это легковесный и высокопроизводительный ASGI-фреймворк, который обеспечивает простоту разработки и гибкость. \n",
    "    uvicorn — это высокопроизводительный сервер приложений ASGI, который позволяет эффективно запускать асинхронные приложения. \n",
    "    Вместе эти инструменты предлагают мощную платформу для разработки современных веб-приложений, способных обрабатывать \n",
    "    большое количество одновременных соединений и обеспечивать высокую производительность.\n",
    "\n"
   ]
  },
  {
   "cell_type": "code",
   "execution_count": null,
   "id": "219f9f50-bf65-4570-bf19-0252753f42ac",
   "metadata": {},
   "outputs": [],
   "source": [
    "multiprocessing asgi\n"
   ]
  },
  {
   "cell_type": "code",
   "execution_count": null,
   "id": "05cbeae3-783c-4eb3-bad5-2271e5fd7fba",
   "metadata": {},
   "outputs": [],
   "source": [
    "1. unicorn\n",
    "\n",
    "uvicorn app:app --workers 4 --host 0.0.0.0 --port 8000\n",
    "\n",
    "2. via libs\n",
    "import multiprocessing\n",
    "from fastapi import FastAPI\n",
    "\n",
    "app = FastAPI()\n",
    "def heavy_task(data):\n",
    "    return f\"Processed {data}\"\n",
    "\n",
    "@app.get(\"/process\")\n",
    "async def process_endpoint(data: str):\n",
    "    with multiprocessing.Pool(process=4) as pool:\n",
    "        result - pool.apply_async(heavy_task, args=(data,))\n",
    "    return {\"result\": result.get()}\n",
    "\n",
    "\n",
    "3. processingpoolexecutor\n",
    "\n",
    "\n",
    "import asyncio\n",
    "from cncurrent.futures import ProcessPoolExecutor\n",
    "from fastapi import FastAPI\n",
    "\n",
    "app = FastAPI()\n",
    "\n",
    "def heavy_task(data):\n",
    "    return f\"Processed {data}\"\n",
    "\n",
    "@app.get(\"/process\")\n",
    "async def process_endpoint(data: str):\n",
    "    loop = asyncio.get_running_loop()\n",
    "    with ProcessPoolExecutor() as pool:\n",
    "        result = await loop.run_in_executor(pool, heavy_task, data)\n",
    "    return {\"result\": result.get()}\n",
    "        \n",
    "\n"
   ]
  },
  {
   "cell_type": "code",
   "execution_count": null,
   "id": "2a89ecfe-d8bc-4ac5-bcdc-295479c4c3fb",
   "metadata": {},
   "outputs": [],
   "source": [
    "выполняемый пример см во вложении ASGIExample.zip"
   ]
  }
 ],
 "metadata": {
  "kernelspec": {
   "display_name": "Python 3 (ipykernel)",
   "language": "python",
   "name": "python3"
  },
  "language_info": {
   "codemirror_mode": {
    "name": "ipython",
    "version": 3
   },
   "file_extension": ".py",
   "mimetype": "text/x-python",
   "name": "python",
   "nbconvert_exporter": "python",
   "pygments_lexer": "ipython3",
   "version": "3.11.7"
  }
 },
 "nbformat": 4,
 "nbformat_minor": 5
}
