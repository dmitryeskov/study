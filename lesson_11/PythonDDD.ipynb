{
 "cells": [
  {
   "cell_type": "code",
   "execution_count": null,
   "id": "9c1f8d47-f042-42a6-81f9-c8b514f611eb",
   "metadata": {},
   "outputs": [],
   "source": [
    "coupling/cohesion\n",
    "\n",
    "class Database:\n",
    "    def __init__(self):\n",
    "        self.data = {}\n",
    "\n",
    "    def save(self, key, value):\n",
    "        pass\n",
    "\n",
    "    def load(self, key):\n",
    "        pass\n",
    "\n",
    "class UserManager:\n",
    "    def __init__(self, database):\n",
    "        self.database=database\n",
    "\n",
    "    def add_user(self, username...):\n",
    "        pass\n",
    "\n",
    "    def get_user(self, username):\n",
    "        pass\n",
    "\n",
    "\n",
    "\n"
   ]
  },
  {
   "cell_type": "code",
   "execution_count": null,
   "id": "f0c286bb-0671-4aef-9b5b-a8ea6a78b168",
   "metadata": {},
   "outputs": [],
   "source": [
    "Domain-Driven Design (DDD) - это подход к разработке программного обеспечения, \n",
    "который фокусируется на создании глубокого понимания бизнес-домена, для которого создается система. DDD помогает \n",
    "создать программное обеспечение, более соответствующее потребностям бизнеса. Рассмотрим основные принципы и терминологию DDD.\n",
    "Основные Принципы DDD\n",
    "1.\tЗнание домена:\n",
    "o\tВ DDD разработчики должны тесно сотрудничать с экспертами в предметной области (домене), чтобы глубоко \n",
    "понять бизнес-процессы и требования.\n",
    "2.\tЕдиный язык (Ubiquitous Language):\n",
    "o\tРазработчики и бизнес-эксперты должны использовать общий язык, чтобы избежать недопонимания и улучшить коммуникацию.\n",
    "3.\tМоделирование домена:\n",
    "o\tСоздание модели, которая отражает реальный бизнес-домен. Это может включать диаграммы, схемы и т.д.\n",
    "4.\tРазделение на контексты (Bounded Contexts):\n",
    "o\tРазделение большой системы на несколько более мелких, управляемых частей (контекстов), каждый из \n",
    "которых имеет свой отдельный домен и модель.\n"
   ]
  },
  {
   "cell_type": "code",
   "execution_count": null,
   "id": "f5e0efd9-7c1d-48f9-9a44-5652d2765350",
   "metadata": {},
   "outputs": [],
   "source": [
    "Domain-Driven Design (DDD) - это подход к разработке программного обеспечения, который \n",
    "фокусируется на создании глубокого понимания бизнес-домена, для которого создается система. \n",
    "DDD помогает создать программное обеспечение, более соответствующее потребностям бизнеса. Рассмотрим основные принципы и терминологию DDD.\n",
    "Основные Принципы DDD\n",
    "1.\tЗнание домена:\n",
    "o\tВ DDD разработчики должны тесно сотрудничать с экспертами в предметной области (домене), чтобы глубоко\n",
    "понять бизнес-процессы и требования.\n",
    "2.\tЕдиный язык (Ubiquitous Language):\n",
    "o\tРазработчики и бизнес-эксперты должны использовать общий язык, чтобы избежать недопонимания и улучшить коммуникацию.\n",
    "3.\tМоделирование домена:\n",
    "o\tСоздание модели, которая отражает реальный бизнес-домен. Это может включать диаграммы, схемы и т.д.\n",
    "4.\tРазделение на контексты (Bounded Contexts):\n",
    "o\tРазделение большой системы на несколько более мелких, управляемых частей (контекстов), каждый из которых \n",
    "имеет свой отдельный домен и модель.\n"
   ]
  },
  {
   "cell_type": "code",
   "execution_count": null,
   "id": "82d0fcc1-1b30-4897-aa4f-a833fc1fb3e8",
   "metadata": {},
   "outputs": [],
   "source": [
    "Основные Принципы Clean Architecture\n",
    "1.\tНезависимость от фреймворков:\n",
    "o\tАрхитектура должна быть независимой от специфических фреймворков и библиотек, чтобы легко менять технологический стек.\n",
    "2.\tТестируемость:\n",
    "o\tЛогика системы должна быть легко тестируемой, с возможностью писать тесты без сложных настроек окружения.\n",
    "3.\tНезависимость от пользовательского интерфейса:\n",
    "o\tСистема должна поддерживать различные интерфейсы (например, веб, мобильные приложения) без изменения бизнес-логики.\n",
    "4.\tНезависимость от баз данных:\n",
    "o\tЛогика системы не должна зависеть от конкретной базы данных, чтобы можно было легко изменять используемую базу данных.\n",
    "5.\tНезависимость от внешних агентств:\n",
    "o\tВнешние системы или библиотеки должны быть легко заменяемыми, без необходимости изменения внутренней логики.\n"
   ]
  },
  {
   "cell_type": "code",
   "execution_count": null,
   "id": "5d4fdcf8-22c4-4aa1-8677-4b689c5d9f21",
   "metadata": {},
   "outputs": [],
   "source": [
    "Структура Clean Architecture\n",
    "Clean Architecture делит систему на несколько слоев, каждый из которых имеет свои обязанности и ограничения:\n",
    "1.\tEntities (Сущности):\n",
    "o\tОсновные бизнес-объекты системы, которые могут быть использованы в разных приложениях. Они содержат \n",
    "важную бизнес-логику и правила.\n",
    "2.\tUse Cases (Сценарии использования):\n",
    "o\tОписывают действия, которые система может выполнять, и взаимодействия между сущностями. Сценарии \n",
    "использования реализуют бизнес-логику приложения.\n",
    "3.\tInterface Adapters (Адаптеры интерфейсов):\n",
    "o\tСодержат адаптеры и контроллеры, которые преобразуют данные из внешнего мира в формат, понятный системе, и наоборот.\n",
    "4.\tFrameworks & Drivers (Фреймворки и драйверы):\n",
    "o\tВнешние библиотеки и фреймворки, которые система использует для взаимодействия с внешним миром, \n",
    "например, веб-фреймворки, базы данных и т.д.\n"
   ]
  },
  {
   "cell_type": "code",
   "execution_count": null,
   "id": "cd8a0988-ee64-489c-ac03-675b16148eb3",
   "metadata": {},
   "outputs": [],
   "source": [
    "пример"
   ]
  },
  {
   "cell_type": "code",
   "execution_count": null,
   "id": "21c68ead-4068-4bc8-8b6d-22652c8ab430",
   "metadata": {},
   "outputs": [],
   "source": [
    "my_project\n",
    "    entities/\n",
    "        user.py\n",
    "    use_cases/\n",
    "        create_user.py\n",
    "    interface_adapters/\n",
    "        controlelrs/\n",
    "            user_controlle.py\n",
    "        repositories/\n",
    "            user_repository.py\n",
    "    frameworks_drivers\n",
    "            web/\n",
    "                flask_app.py\n",
    "            database\n",
    "                sqlalchemy_setup.py\n",
    "    tests/\n",
    "        test_create_user.py\n",
    "\n",
    "\n",
    "1. user.py\n",
    "\n",
    "class User:\n",
    "    def __init__(self, user_id: int, name: str):\n",
    "        self.user_id = user_id\n",
    "        self.name=name\n",
    "\n",
    "2. use_cases/create_user.py\n",
    "from entities.user import User\n",
    "\n",
    "class CreateUser:\n",
    "    def __init__(self, user_repository):\n",
    "        self.user_repository = user_repository\n",
    "    def execute(self, user_id: int, name: str):\n",
    "        user = User(user_id, name)\n",
    "        self.user_repository.save(user)\n",
    "\n",
    "3. adapters\n",
    "class UserRepository:\n",
    "    def __init__(self):\n",
    "        self.users = ()\n",
    "\n",
    "    def save(self, user):\n",
    "        self.users[user.user_id] = user\n",
    "\n",
    "4. frameworks\n",
    "from flask import Flask, request, jsonify\n",
    "from interface_adapters.repositories.user_repository import UserRepository\n",
    "\n",
    "app = Flask(__name__)\n",
    "\n",
    "@app.route(\"/users\", methods=['POST'])\n",
    "def create_user_endpoint():\n",
    "    pass\n",
    "\n",
    "if __name__ == '__main__':\n",
    "    app.run()\n",
    "\n",
    "5. tests\n",
    "...\n",
    "\n"
   ]
  },
  {
   "cell_type": "code",
   "execution_count": null,
   "id": "50a11967-841a-47c6-852f-e054bff76f0f",
   "metadata": {},
   "outputs": [],
   "source": [
    "Преимущества применения Clean Architecture в Python проектах\n",
    "1.\tМодульность:\n",
    "o\tКод легко разделяется на независимые модули, что упрощает его тестирование и поддержку.\n",
    "2.\tГибкость:\n",
    "o\tЛегко изменять и заменять компоненты системы, такие как базы данных или веб-фреймворки.\n",
    "3.\tПоддерживаемость:\n",
    "o\tЧеткое разделение обязанностей делает код понятным и легко изменяемым.\n",
    "4.\tТестируемость:\n",
    "o\tЛогика системы легко тестируется благодаря четкому разделению на слои.\n",
    "Clean Architecture - мощный подход, который помогает создавать гибкие и поддерживаемые системы, особенно в \n",
    "крупных и сложных проектах. В проектах на Python он также позволяет эффективно использовать различные библиотеки \n",
    "и фреймворки, сохраняя при этом ясность и структурированность кода.\n"
   ]
  },
  {
   "cell_type": "code",
   "execution_count": null,
   "id": "e0f14a41-68ec-4b51-8100-efc111e54d7d",
   "metadata": {},
   "outputs": [],
   "source": [
    "entities"
   ]
  },
  {
   "cell_type": "code",
   "execution_count": null,
   "id": "e373f8c0-297a-4f24-9f79-2aa6afdd8dc1",
   "metadata": {},
   "outputs": [],
   "source": [
    "class DeliveryOrder:\n",
    "    def __init__(selfm order_id, w, v, p):\n",
    "        pass\n",
    "    def update_status(self, new_status):\n",
    "        self.status = new_stataus\n",
    "    "
   ]
  },
  {
   "cell_type": "code",
   "execution_count": null,
   "id": "9b4a3765-0f4b-41ad-9241-6837d7e34bf6",
   "metadata": {},
   "outputs": [],
   "source": [
    "use cases"
   ]
  },
  {
   "cell_type": "code",
   "execution_count": null,
   "id": "763ea5b0-cd2a-498c-8fed-ee998111019a",
   "metadata": {},
   "outputs": [],
   "source": [
    "class PlaneDeliveryRoutes:\n",
    "    def __init__(self, courier_service):\n",
    "        pass\n",
    "    def execute(self, orders):\n",
    "        pass"
   ]
  },
  {
   "cell_type": "code",
   "execution_count": null,
   "id": "e72705ba-7e17-4191-b8b5-d0bf5f75d67b",
   "metadata": {},
   "outputs": [],
   "source": [
    "interface adapters"
   ]
  },
  {
   "cell_type": "code",
   "execution_count": null,
   "id": "4f97f94d-c8f2-456b-b570-abde8806b8bb",
   "metadata": {},
   "outputs": [],
   "source": [
    "class CourierServiceAdapter:\n",
    "    def __init__(self, courier_api):\n",
    "        pass\n",
    "    def plan_routes(self, orders):\n",
    "        pass"
   ]
  },
  {
   "cell_type": "code",
   "execution_count": null,
   "id": "4094a14c-6856-4fa8-ae43-b3eb8857adbb",
   "metadata": {},
   "outputs": [],
   "source": [
    "frameworks and drivers"
   ]
  },
  {
   "cell_type": "code",
   "execution_count": null,
   "id": "547cdb1a-e333-46fc-9b13-6f1fbbb0e2b1",
   "metadata": {},
   "outputs": [],
   "source": [
    "class DHLAPI:\n",
    "    def get_routes(self, orders):\n",
    "        pass"
   ]
  },
  {
   "cell_type": "code",
   "execution_count": null,
   "id": "9c88954f-d4d8-45ac-b74c-b4d5ca30b108",
   "metadata": {},
   "outputs": [],
   "source": [
    "change courier"
   ]
  },
  {
   "cell_type": "code",
   "execution_count": null,
   "id": "631f8f52-8933-4b59-9162-869a1ecd0a7e",
   "metadata": {},
   "outputs": [],
   "source": [
    "class FedExApi:\n",
    "    def get_routes(self, orders):\n",
    "        pass\n",
    "\n",
    "courier_service = CourierServiceAdapter(FedExApi())"
   ]
  },
  {
   "cell_type": "code",
   "execution_count": null,
   "id": "c6bbf735-8761-4fc8-8d52-633f43b3be48",
   "metadata": {},
   "outputs": [],
   "source": [
    "testing"
   ]
  },
  {
   "cell_type": "code",
   "execution_count": null,
   "id": "ed8866a2-8fec-4e9b-add0-84317fc1ca2d",
   "metadata": {},
   "outputs": [],
   "source": [
    "class MockCourierApi:\n",
    "    def get_routes(self, orders):\n",
    "        pass\n",
    "\n",
    "courier_service = CorierServiceAdapter(MockCourierApi())\n",
    "pass"
   ]
  },
  {
   "cell_type": "code",
   "execution_count": null,
   "id": "1af11d82-1587-460d-aa41-75d91afdd7db",
   "metadata": {},
   "outputs": [],
   "source": [
    "Domain-Driven Design (DDD) - Основные концепции и терминология\n",
    "1. Ubiquitous Language (Единый Язык)\n",
    "Ubiquitous Language - это общий язык, который используется разработчиками и бизнес-экспертами для общения и описания бизнес-домена. \n",
    "Этот язык включает в себя термины, которые точно и четко описывают аспекты домена, и используется в коде, документации, обсуждениях и встречах.\n",
    "Пример: Если вы разрабатываете систему для управления заказами, вы и бизнес-эксперты можете использовать термины \"Заказ\", \"Клиент\", \"Товар\" и \n",
    "\"Счет-фактура\" как часть вашего Ubiquitous Language.\n",
    "2. Domain Services (Доменные Службы)\n",
    "Domain Services - это операции, которые не принадлежат ни одной конкретной сущности (Entity) или объекту-значению (Value Object),\n",
    "но имеют значение для домена. Эти службы содержат бизнес-логику, которая не подходит ни для сущностей, ни для объектов-значений.\n",
    "Пример: Служба, которая вычисляет стоимость доставки для заказа на основе различных параметров (вес, расстояние, тип доставки), может\n",
    "быть доменной службой.\n",
    "3. Value Objects (Объекты-значения)\n",
    "Value Objects - это объекты, которые определяются своими атрибутами, а не идентификатором. Они неизменяемы и используются для \n",
    "представления аспектов домена, которые не требуют уникального идентификатора.\n"
   ]
  },
  {
   "cell_type": "code",
   "execution_count": null,
   "id": "a2d19e3b-85c2-4390-8ac6-f0070b18df7d",
   "metadata": {},
   "outputs": [],
   "source": [
    "4. Entity (Сущность)\n",
    "Entity - это объект, который имеет уникальный идентификатор и изменяемые атрибуты.\n",
    "Сущности имеют свой жизненный цикл и могут изменяться с течением времени.\n"
   ]
  },
  {
   "cell_type": "code",
   "execution_count": null,
   "id": "eb88f71e-2b55-42ed-ac2c-2b909640a7ce",
   "metadata": {},
   "outputs": [],
   "source": [
    "5. Aggregate (Агрегат)\n",
    "Aggregate - это кластер сущностей и объектов-значений, которые рассматриваются как единое целое. \n",
    "Каждое агрегат имеет корневую сущность (Aggregate Root), через которую осуществляется доступ ко всем другим объектам внутри агрегата.\n"
   ]
  },
  {
   "cell_type": "code",
   "execution_count": null,
   "id": "47e949a7-2283-4555-bbd9-c8dc3a65a95f",
   "metadata": {},
   "outputs": [],
   "source": [
    "6. Repository (Репозиторий)\n",
    "Repository - это абстракция для доступа к агрегатам из базы данных или других источников данных.\n",
    "Репозиторий предоставляет методы для добавления, удаления и поиска агрегатов.\n"
   ]
  },
  {
   "cell_type": "code",
   "execution_count": null,
   "id": "500356fd-c0e7-4c04-bf33-00bbb7ac7a0b",
   "metadata": {},
   "outputs": [],
   "source": [
    "Пример Реализации в Python\n",
    "Предположим, мы разрабатываем систему для управления заказами. Рассмотрим использование вышеупомянутых концепций на примере.\n"
   ]
  },
  {
   "cell_type": "code",
   "execution_count": null,
   "id": "6daccafd-f369-4d16-a875-fd2c4762f28b",
   "metadata": {},
   "outputs": [],
   "source": [
    "Принципы Чистой Архитектуры\n",
    "Чистая Архитектура (Clean Architecture) основывается на нескольких ключевых принципах и \n",
    "концепциях, которые направлены на создание гибких, масштабируемых и легко поддерживаемых систем. Основные принципы Чистой Архитектуры включают:\n",
    "1.\tНезависимость от фреймворков:\n",
    "o\tАрхитектура системы должна быть независимой от конкретных фреймворков и библиотек. \n",
    "Это позволяет легко заменять или обновлять фреймворки без значительных изменений в бизнес-логике.\n",
    "2.\tНезависимость от пользовательского интерфейса:\n",
    "o\tБизнес-логика системы не должна зависеть от пользовательского интерфейса. Это позволяет \n",
    "использовать различные интерфейсы (веб, мобильные приложения, консольные приложения и т.д.) без изменения основной логики.\n",
    "3.\tНезависимость от баз данных:\n",
    "o\tСистема должна быть спроектирована таким образом, чтобы можно было легко менять используемую \n",
    "базу данных или способ хранения данных без изменений в бизнес-логике.\n",
    "4.\tНезависимость от внешних агентств:\n",
    "o\tВнешние системы или библиотеки должны быть легко заменяемыми, что позволяет минимизировать зависимость от\n",
    "конкретных поставщиков или технологий.\n",
    "5.\tТестируемость:\n",
    "o\tСистема должна быть легко тестируемой. Бизнес-логика должна быть изолирована от деталей реализации, \n",
    "что позволяет писать и выполнять тесты без сложных настроек окружения.\n",
    "Структура Чистой Архитектуры\n",
    "Чистая Архитектура разделяет систему на несколько слоев, каждый из которых имеет свои обязанности и ограничения. Основные слои включают:\n",
    "1.\tEntities (Сущности):\n",
    "o\tСодержат основные бизнес-объекты и правила, которые могут быть использованы в различных приложениях.\n",
    "2.\tUse Cases (Сценарии использования):\n",
    "o\tОписывают действия, которые система может выполнять. Они реализуют бизнес-логику и правила взаимодействия между сущностями.\n",
    "3.\tInterface Adapters (Адаптеры интерфейсов):\n",
    "o\tСодержат адаптеры и контроллеры, которые преобразуют данные из внешнего мира в формат, понятный системе, и наоборот.\n",
    "4.\tFrameworks & Drivers (Фреймворки и драйверы):\n",
    "o\tВнешние библиотеки и фреймворки, которые используются для взаимодействия с внешним миром, такими как веб-фреймворки, базы данных и т.д.\n"
   ]
  },
  {
   "cell_type": "code",
   "execution_count": null,
   "id": "84f1ca26-3b95-4005-8ef5-2ff3921ecf2b",
   "metadata": {},
   "outputs": [],
   "source": [
    "Границы применимости Чистой Архитектуры\n",
    "Хотя Чистая Архитектура предлагает множество преимуществ, есть случаи, когда её применение может быть неоправданным или чрезмерно сложным:\n",
    "1.\tМаленькие проекты:\n",
    "o\tДля небольших проектов или прототипов применение всех принципов Чистой Архитектуры может \n",
    "быть излишним и усложнять разработку. В таких случаях стоит сосредоточиться на базовых принципах модульности и тестируемости.\n",
    "2.\tОграниченные ресурсы:\n",
    "o\tВ проектах с ограниченными ресурсами (например, небольшие команды или сжатые сроки) внедрение \n",
    "Чистой Архитектуры может быть трудозатратным. Важно балансировать между архитектурной чистотой и практическими ограничениями.\n",
    "3.\tОтсутствие сложных бизнес-правил:\n",
    "o\tЕсли проект не имеет сложных бизнес-правил и логики, применение Чистой Архитектуры может быть \n",
    "неоправданным. Простейшие архитектурные подходы могут быть более подходящими.\n",
    "4.\tВысокий уровень динамики требований:\n",
    "o\tВ проектах, где требования часто меняются, чрезмерная структуризация и разделение на слои могут замедлить разработку. Важно сохранять гибкость в архитектуре.\n"
   ]
  },
  {
   "cell_type": "code",
   "execution_count": null,
   "id": "d6af73ea-7027-401a-b2e6-bda6f320364d",
   "metadata": {},
   "outputs": [],
   "source": [
    "1. Domain Objects (Доменные Объекты)\n",
    "Domain Objects - это сущности и объекты-значения, которые представляют основную бизнес-логику и правила домена.\n",
    "Они являются сердцем системы и содержат данные и поведение, относящиеся к бизнес-объектам.\n"
   ]
  },
  {
   "cell_type": "code",
   "execution_count": null,
   "id": "ab5d19ed-095c-440f-8056-c7cfa216bfc9",
   "metadata": {},
   "outputs": [],
   "source": []
  },
  {
   "cell_type": "code",
   "execution_count": null,
   "id": "b393df4f-ada6-487a-9f2e-2331a084f307",
   "metadata": {},
   "outputs": [],
   "source": [
    "2. Use Cases (Сценарии Использования)\n",
    "Use Cases определяют действия, которые система может выполнять. Они инкапсулируют бизнес-логику, \n",
    "которая управляет взаимодействием между доменными объектами, и обеспечивают выполнение конкретных задач.\n"
   ]
  },
  {
   "cell_type": "code",
   "execution_count": null,
   "id": "0fd99178-0b9f-4468-8c2a-79d2ca2a5b0b",
   "metadata": {},
   "outputs": [],
   "source": []
  },
  {
   "cell_type": "code",
   "execution_count": null,
   "id": "4d1bd1de-53ee-47bf-937c-f4f6b5e15027",
   "metadata": {},
   "outputs": [],
   "source": [
    "3. Ports & Adapters (Порты и Адаптеры)\n",
    "Архитектурный паттерн Ports & Adapters (также известный как Hexagonal Architecture) позволяет \n",
    "отделить бизнес-логику от инфраструктуры. Порты представляют собой интерфейсы, через которые взаимодействуют \n",
    "разные части системы, а адаптеры реализуют эти интерфейсы для конкретных технологий или фреймворков.\n",
    "Пример порта:\n"
   ]
  },
  {
   "cell_type": "code",
   "execution_count": 3,
   "id": "1fcbf45e-fe58-4c66-891b-c9c6d2098c3e",
   "metadata": {},
   "outputs": [],
   "source": []
  },
  {
   "cell_type": "code",
   "execution_count": null,
   "id": "9b45bffa-170e-42f6-bada-9886ee6a807a",
   "metadata": {},
   "outputs": [],
   "source": [
    "4. Presenters (Презентеры)\n",
    "Presenters преобразуют данные из формата, используемого бизнес-логикой, в формат, подходящий для \n",
    "пользовательского интерфейса. Они отделяют логику отображения от бизнес-логики и сценариев использования.\n"
   ]
  },
  {
   "cell_type": "code",
   "execution_count": null,
   "id": "823753db-aa4e-4efb-a28e-9bfef5f434aa",
   "metadata": {},
   "outputs": [],
   "source": []
  },
  {
   "cell_type": "code",
   "execution_count": null,
   "id": "c0a4952d-8373-4462-84b2-0e517fa32fca",
   "metadata": {},
   "outputs": [],
   "source": [
    "5. Controllers (Контроллеры)\n",
    "Контроллеры принимают входные данные от пользователя или внешних систем, \n",
    "передают их сценариям использования и возвращают результаты. Они связывают пользовательский интерфейс с бизнес-логикой\n"
   ]
  },
  {
   "cell_type": "code",
   "execution_count": null,
   "id": "ee859a43-1950-4ae8-93e9-a43d44edaa13",
   "metadata": {},
   "outputs": [],
   "source": []
  },
  {
   "cell_type": "code",
   "execution_count": null,
   "id": "e0b012af-f12f-4458-8487-4f3db61bafe8",
   "metadata": {},
   "outputs": [],
   "source": [
    "Пример Реализации Чистой Архитектуры в Python\n",
    "Рассмотрим простой пример системы управления пользователями с использованием вышеописанных концепций.\n"
   ]
  },
  {
   "cell_type": "code",
   "execution_count": null,
   "id": "8c688c08-87d7-40fe-9f80-b33caf0a7ccd",
   "metadata": {},
   "outputs": [],
   "source": []
  },
  {
   "cell_type": "code",
   "execution_count": null,
   "id": "56f1c431-9e96-4de7-b19a-37ce7bf174b4",
   "metadata": {},
   "outputs": [],
   "source": [
    "пример DDD"
   ]
  },
  {
   "cell_type": "code",
   "execution_count": null,
   "id": "e291617f-cde2-45c0-ade9-24f38513e6ea",
   "metadata": {},
   "outputs": [],
   "source": [
    "1 шаг МBounded Context"
   ]
  },
  {
   "cell_type": "code",
   "execution_count": null,
   "id": "040db43a-9062-4362-b8d8-fde9520c5e37",
   "metadata": {},
   "outputs": [],
   "source": [
    "2 шаг Domain Models"
   ]
  },
  {
   "cell_type": "code",
   "execution_count": null,
   "id": "cca5ed79-9ff1-45bb-8bd5-a3d525ee44ed",
   "metadata": {},
   "outputs": [],
   "source": [
    "Asset, entity"
   ]
  },
  {
   "cell_type": "code",
   "execution_count": null,
   "id": "38a592f4-dc44-4136-b11b-90d575d95e1b",
   "metadata": {},
   "outputs": [],
   "source": [
    "class Asset:\n",
    "    def __init__(self, asset_type, ticker, price, volatility=None):\n",
    "        pass\n",
    "    def is_crypto(self):\n",
    "        pass\n",
    "    def update_proce(self, new_price):\n",
    "        self.price = new_price\n",
    "\n",
    "class Porfolio:\n",
    "    def __init__(self, portfolio_id, client_name, assets=None):\n",
    "        pass\n",
    "    def add_asset(self, asset):\n",
    "        pass\n",
    "    def calculate_total_value(self):\n",
    "        return sum(...)"
   ]
  },
  {
   "cell_type": "code",
   "execution_count": null,
   "id": "6de16660-37a8-4835-af6a-7b0408dcb6f4",
   "metadata": {},
   "outputs": [],
   "source": [
    "aggregation"
   ]
  },
  {
   "cell_type": "code",
   "execution_count": null,
   "id": "7c0ca5c3-b24a-41e3-8289-a2510e93e99e",
   "metadata": {},
   "outputs": [],
   "source": [
    "class InvestmentStrategy:\n",
    "    def __init__(self, risk_tolerance, target_allocation):\n",
    "        pass\n",
    "    def validate_allocations(self, portfolio):\n",
    "        pass"
   ]
  },
  {
   "cell_type": "code",
   "execution_count": null,
   "id": "3d8d86c6-d6f2-4a6b-bc82-89d1ab5fbb85",
   "metadata": {},
   "outputs": [],
   "source": [
    "domain service"
   ]
  },
  {
   "cell_type": "code",
   "execution_count": null,
   "id": "9756070b-f006-4ba9-9ef9-32f689f9a131",
   "metadata": {},
   "outputs": [],
   "source": [
    "class RebalancingService:\n",
    "    def __init__(self, market_data_service):\n",
    "        pass\n",
    "    def rebalance(self, portfolio, strategy):\n",
    "        pass"
   ]
  },
  {
   "cell_type": "code",
   "execution_count": null,
   "id": "b1122ed6-19a1-4675-b6ed-b3512b441c23",
   "metadata": {},
   "outputs": [],
   "source": [
    "repository"
   ]
  },
  {
   "cell_type": "code",
   "execution_count": null,
   "id": "958ac9f0-e7d7-45f5-a963-7093d74cf3f7",
   "metadata": {},
   "outputs": [],
   "source": [
    "class PortfolioRepository:\n",
    "    def __init__(self):\n",
    "        pass\n",
    "    def save(self, portfolio):\n",
    "        pass\n",
    "    def find_by_id(self, portfolio_id):\n",
    "        pass\n",
    "\n",
    "class MarketDataService:\n",
    "    def get_price(self, tiker):\n",
    "        pass"
   ]
  },
  {
   "cell_type": "code",
   "execution_count": null,
   "id": "eccb50ef-5b1b-4b60-88f5-db507b626a3f",
   "metadata": {},
   "outputs": [],
   "source": [
    "usages"
   ]
  },
  {
   "cell_type": "code",
   "execution_count": null,
   "id": "d8f8e1a6-87c9-4a3b-bb39-3eddaa650f89",
   "metadata": {},
   "outputs": [],
   "source": [
    "portfolio = Portfolio(portfolio_id=1, client_name=\"sd\")\n",
    "portfolio.add_asset(Asset(...))\n",
    "portfolio.add_asset(Asset(...))\n",
    "\n",
    "strategy = InvestmentStrategy(risk_tolerance=0.2, target_allocation = {\"stocks\": 60...})\n",
    "\n",
    "market_data_service = MarketDataService()\n",
    "rebalancing_service=RebalancingService(market_data_service)\n",
    "\n",
    "repository = PortfolioRepository()\n",
    "repository.save(portfolio)\n",
    "rebalancing_service.rebalance(portfolio, strategy)\n",
    "\n"
   ]
  },
  {
   "cell_type": "code",
   "execution_count": null,
   "id": "0fd6c604-5bb4-480f-a310-438e4c06faf1",
   "metadata": {},
   "outputs": [],
   "source": [
    "Границы Применимости Чистой Архитектуры\n",
    "Чистая Архитектура подходит для различных типов проектов, но есть случаи, когда её применение может быть нецелесообразным:\n",
    "1.\tМаленькие и простые проекты:\n",
    "o\tВ небольших проектах или прототипах применение всех принципов Чистой Архитектуры может быть излишним и усложнять разработку.\n",
    "2.\tОграниченные ресурсы:\n",
    "o\tВ проектах с ограниченными ресурсами (маленькие команды или сжатые сроки) внедрение Чистой Архитектуры может быть трудозатратным.\n",
    "3.\tОтсутствие сложных бизнес-правил:\n",
    "o\tЕсли проект не имеет сложных бизнес-правил и логики, применение Чистой Архитектуры может быть неоправданным.\n",
    "4.\tВысокий уровень динамики требований:\n",
    "o\tВ проектах, где требования часто меняются, чрезмерная структуризация и разделение на слои могут замедлить разработку.\n"
   ]
  },
  {
   "attachments": {
    "629d21b6-088a-46b9-9de0-4d120d96dae4.png": {
     "image/png": "[encoded data removed]"
    }
   },
   "cell_type": "markdown",
   "id": "b61c1342-40d0-4290-8dff-ccb45a578057",
   "metadata": {},
   "source": [
    "![image.png](attachment:629d21b6-088a-46b9-9de0-4d120d96dae4.png)"
   ]
  },
  {
   "cell_type": "code",
   "execution_count": null,
   "id": "a6ad20ad-3fc4-47af-9d15-6171b9ea149c",
   "metadata": {},
   "outputs": [],
   "source": []
  }
 ],
 "metadata": {
  "kernelspec": {
   "display_name": "Python 3 (ipykernel)",
   "language": "python",
   "name": "python3"
  },
  "language_info": {
   "codemirror_mode": {
    "name": "ipython",
    "version": 3
   },
   "file_extension": ".py",
   "mimetype": "text/x-python",
   "name": "python",
   "nbconvert_exporter": "python",
   "pygments_lexer": "ipython3",
   "version": "3.11.7"
  }
 },
 "nbformat": 4,
 "nbformat_minor": 5
}
