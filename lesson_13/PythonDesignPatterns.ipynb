{
 "cells": [
  {
   "cell_type": "code",
   "execution_count": null,
   "id": "2a058897-2117-413e-9c0e-8758b2355562",
   "metadata": {},
   "outputs": [],
   "source": [
    "История появления паттернов (шаблонов проектирования) и их значимость в современной разработке программного\n",
    "обеспечения важна для понимания концепции структурирования и организации кода. Вот краткий обзор:\n",
    "История появления паттернов\n",
    "1.\t1970-е годы:\n",
    "o\tПонятие паттернов возникло в архитектуре благодаря работе Кристофера Александера, который написал книгу \n",
    "\"A Pattern Language\". В ней он описал повторяющиеся решения для архитектурных задач.\n",
    "2.\t1980-е годы:\n",
    "o\tВ программной инженерии паттерны начали упоминаться в контексте объектно-ориентированного программирования.\n",
    "3.\t1994 год:\n",
    "o\tЧетыре автора, известные как \"Банда четырех\" (Erich Gamma, Richard Helm, Ralph Johnson, John Vlissides), \n",
    "опубликовали книгу \"Design Patterns: Elements of Reusable Object-Oriented Software\". Эта книга систематизировала и\n",
    "популяризировала использование паттернов в разработке ПО.\n",
    "Зачем нужны паттерны проектирования\n",
    "1.\tПовторное использование решений:\n",
    "o\tПаттерны позволяют использовать проверенные решения для часто встречающихся задач. Это экономит время и\n",
    "усилия разработчиков, избегая \"изобретения велосипеда\".\n",
    "2.\tУлучшение структуры кода:\n",
    "o\tПаттерны помогают организовать код, делая его более понятным, структурированным и поддерживаемым.\n",
    "3.\tУлучшение коммуникации:\n",
    "o\tПаттерны создают общий язык между разработчиками, позволяя легко обсуждать архитектурные решения и подходы.\n",
    "4.\tУлучшение гибкости и расширяемости:\n",
    "o\tИспользование паттернов помогает создать системы, которые легче модифицировать и расширять по мере необходимости.\n",
    "Примеры паттернов и их применение в Python\n",
    "1.\tSingleton (Одиночка):\n"
   ]
  },
  {
   "cell_type": "code",
   "execution_count": null,
   "id": "885e0381-f8f8-47ec-ab31-40b2752e99b1",
   "metadata": {},
   "outputs": [],
   "source": [
    "пример"
   ]
  },
  {
   "cell_type": "code",
   "execution_count": null,
   "id": "37d0d622-42a8-4150-9389-b1f4825f0524",
   "metadata": {},
   "outputs": [],
   "source": [
    "class Singeltone:\n",
    "    _instance = None\n",
    "\n",
    "    def __new__(cls):\n",
    "        if cks._instance is None:\n",
    "            cls._instance = super().__new__(cls)\n",
    "        return cls._instance"
   ]
  },
  {
   "cell_type": "code",
   "execution_count": null,
   "id": "a55662fb-20c9-4e1a-a8bf-39907e1b957e",
   "metadata": {},
   "outputs": [],
   "source": [
    "2.\tFactory (Фабрика):\n",
    "o\tСоздает объекты без указания точного класса создаваемого объекта.\n"
   ]
  },
  {
   "cell_type": "code",
   "execution_count": null,
   "id": "9a96cfa1-1a2c-4c47-a90b-cf08579af7fc",
   "metadata": {},
   "outputs": [],
   "source": [
    "пример"
   ]
  },
  {
   "cell_type": "code",
   "execution_count": null,
   "id": "48a639ad-0cb7-4ad6-ad0c-23e97354ee03",
   "metadata": {},
   "outputs": [],
   "source": [
    "class Product:\n",
    "    def operation(self):\n",
    "        raise NotImplementedError\n",
    "\n",
    "class ConcreteProductA(Product):\n",
    "    def operation(self):\n",
    "        return \"1\"\n",
    "\n",
    "class ConcreteProductB(Product):\n",
    "    def operation(self):\n",
    "        return \"2\"\n",
    "\n",
    "class Factory:\n",
    "    @staticmethod\n",
    "    def create_product(type):\n",
    "        if type == 'A':\n",
    "            return ConcreteProductA()\n",
    "        elif type == 'B':\n",
    "            return ConcreteProductB()\n",
    "        else:\n",
    "            raise ValueError(\"sd\")\n",
    "\n",
    "product = Factory.create_product('A')\n",
    "    \n",
    "\n"
   ]
  },
  {
   "cell_type": "code",
   "execution_count": null,
   "id": "7be337d9-cd40-4672-a936-22debd7f5b5f",
   "metadata": {},
   "outputs": [],
   "source": [
    "2.1\tFactory Method (Фабричный метод):"
   ]
  },
  {
   "cell_type": "code",
   "execution_count": null,
   "id": "6cfacaef-b6b4-4638-a1df-0f5a569caa8a",
   "metadata": {},
   "outputs": [],
   "source": [
    "class Product:\n",
    "    def operation(self):\n",
    "        raise NotImplementedError\n",
    "\n",
    "class ConcreteProductA(Product):\n",
    "    def operation(self):\n",
    "        return \"1\"\n",
    "\n",
    "class ConcreteProductB(Product):\n",
    "    def operation(self):\n",
    "        return \"2\"\n",
    "\n",
    "class Creator:\n",
    "    def factory_method(self):\n",
    "        pass\n",
    "\n",
    "class ConcreteCreatorA(Creator):\n",
    "    def factory_method(self):\n",
    "        return ConcreteProductA()\n",
    "\n",
    "class ConcreteCreatoBA(Creator):\n",
    "    def factory_method(self):\n",
    "        return ConcreteProductB()\n",
    "\n",
    "creator = ConcreteCreatorA()\n",
    "product = creator.factory_method()\n",
    "\n"
   ]
  },
  {
   "cell_type": "code",
   "execution_count": null,
   "id": "0cded5c9-bb98-411d-8ad3-e43f1ab6338f",
   "metadata": {},
   "outputs": [],
   "source": [
    "3.\tObserver (Наблюдатель):\n",
    "o\tОпределяет зависимость типа \"один ко многим\" между объектами так, что \n",
    "при изменении состояния одного объекта все зависимые объекты уведомляются и обновляются автоматически.\n"
   ]
  },
  {
   "cell_type": "code",
   "execution_count": null,
   "id": "8387b2bd-ae30-4c4c-9259-7a7b4da61891",
   "metadata": {},
   "outputs": [],
   "source": [
    "пример"
   ]
  },
  {
   "cell_type": "code",
   "execution_count": null,
   "id": "3b18e1e9-a3aa-4d16-a7ba-9ece8ce0bd36",
   "metadata": {},
   "outputs": [],
   "source": [
    "class Subject:\n",
    "    def __init__(self):\n",
    "        self._observers = []\n",
    "\n",
    "    def attach(self, observer):\n",
    "        self._observers.append(observer)\n",
    "\n",
    "    def notify(self):\n",
    "        for observer in self._observers:\n",
    "            observer.update()\n",
    "\n",
    "class Observer:\n",
    "    def update(self):\n",
    "        pass\n",
    "\n",
    "subject = Subject()\n",
    "observer1 = Observer()\n",
    "subject.attach(observer1)\n",
    "subject.notify()"
   ]
  },
  {
   "cell_type": "code",
   "execution_count": null,
   "id": "f0e04ac6-ce59-4424-a755-80a572556321",
   "metadata": {},
   "outputs": [],
   "source": [
    "4.\tStrategy (стратегия):"
   ]
  },
  {
   "cell_type": "code",
   "execution_count": null,
   "id": "9fdc5023-e7a4-4d22-a5a1-8686bba12cd5",
   "metadata": {},
   "outputs": [],
   "source": [
    "class StrategyA:\n",
    "    def execute(self):\n",
    "        return \"strategy A executed\"\n",
    "\n",
    "class StrategyB:\n",
    "    def execute(self):\n",
    "        return \"strategy B executed\"\n",
    "\n",
    "class Context:\n",
    "    def __init__(self, strategy):\n",
    "        self._strategy = strategy\n",
    "\n",
    "    def execute(self):\n",
    "        return self._strategy.execute()\n",
    "\n",
    "context = Context(StrategyA())\n",
    "context.execute()\n",
    "...\n",
    "\n"
   ]
  },
  {
   "cell_type": "code",
   "execution_count": null,
   "id": "63b242a3-dc7f-46a7-adaf-976afc962667",
   "metadata": {},
   "outputs": [],
   "source": [
    "5.\tAdapter (адаптер):"
   ]
  },
  {
   "cell_type": "code",
   "execution_count": null,
   "id": "491088de-6839-4d72-86ea-5961895395b6",
   "metadata": {},
   "outputs": [],
   "source": [
    "class OldSystem:\n",
    "    def old_methid(self):\n",
    "        return \"1\"\n",
    "class Adapter:\n",
    "    def __init__(self, system: OldSystem):\n",
    "        self.system = system\n",
    "    def new_method(self):\n",
    "        return self.system.old_methid()\n",
    "\n",
    "old_system = OldSystem()\n",
    "adpater = Adapter(old_system)\n",
    "adapter.new_method()"
   ]
  },
  {
   "cell_type": "code",
   "execution_count": null,
   "id": "479588fe-3221-4643-a2ee-223ad2124347",
   "metadata": {},
   "outputs": [],
   "source": [
    "6.\tDecorator (декоратор):"
   ]
  },
  {
   "cell_type": "code",
   "execution_count": null,
   "id": "59101764-bc20-4905-bdba-adde680c2823",
   "metadata": {},
   "outputs": [],
   "source": [
    "class BaseComponent:\n",
    "    def operation(self):\n",
    "        return \"base component operation\"\n",
    "\n",
    "class Decorator(BaseComponent):\n",
    "    def __init__(self, component: BaseComponent):\n",
    "        self.component = component\n",
    "\n",
    "    def operation(self):\n",
    "        return self.component.operation()\n"
   ]
  },
  {
   "cell_type": "code",
   "execution_count": null,
   "id": "ec039045-f500-4b4b-8ec7-15fd89978d9b",
   "metadata": {},
   "outputs": [],
   "source": [
    "10. Dependency Injection"
   ]
  },
  {
   "cell_type": "code",
   "execution_count": null,
   "id": "b1334bd0-3b86-4562-b432-e09c4963ee18",
   "metadata": {},
   "outputs": [],
   "source": [
    "from typing import Protocol\n",
    "\n",
    "class Database(Protocol):\n",
    "    def connect(self) -> None:\n",
    "        ...\n",
    "    def fetch_data(self) -> list:\n",
    "        ...\n",
    "\n",
    "class PostgreSQLdatabase:\n",
    "    def connect(self)-> None:\n",
    "        ...\n",
    "\n",
    "    def fetch_data(self) -> list:\n",
    "        return ...\n",
    "\n",
    "\n",
    "class MySQLdatabase:\n",
    "    def connect(self)-> None:\n",
    "        ...\n",
    "\n",
    "    def fetch_data(self) -> list:\n",
    "        return ...\n",
    "\n",
    "\n",
    "class DataService:\n",
    "    def __init__(self, database: Database) -> None:\n",
    "        self.database = database\n",
    "\n",
    "    def get_data(self)-> list:\n",
    "        self.database.connect()\n",
    "        return self.database.fetch_data()\n",
    "\n",
    "\n",
    "postgres_service = DataService(PostgreSQLdatabase())\n",
    "mysql_service = DataService(MySQLdatabase())\n",
    "\n",
    "\n",
    "\n"
   ]
  },
  {
   "cell_type": "code",
   "execution_count": null,
   "id": "9180bb7f-1239-4b2a-9e6a-6572d64395a7",
   "metadata": {},
   "outputs": [],
   "source": [
    "11.Builder Pattern"
   ]
  },
  {
   "cell_type": "code",
   "execution_count": null,
   "id": "f4cda3f0-6ef5-4b64-ab4a-b39f95fe63c7",
   "metadata": {},
   "outputs": [],
   "source": [
    "class Pizza:\n",
    "    def __init__(self, size, cheesem...):\n",
    "        ...\n",
    "\n",
    "\n",
    "class PizzaBuilder:\n",
    "    def __init__(self):\n",
    "        ....\n",
    "\n",
    "    def set_size(self, size):\n",
    "        self.size = size\n",
    "        return self\n",
    "\n",
    "    ....\n",
    "    def build(self):\n",
    "        return Pizza(self.size...)\n",
    "    "
   ]
  },
  {
   "cell_type": "code",
   "execution_count": null,
   "id": "08f8f189-e168-49fb-a00f-b09c229d1a4f",
   "metadata": {},
   "outputs": [],
   "source": [
    "12. Event Sourcing"
   ]
  },
  {
   "cell_type": "code",
   "execution_count": null,
   "id": "90770594-c514-4537-b037-cd139d56b6ed",
   "metadata": {},
   "outputs": [],
   "source": [
    "class Event:\n",
    "    def __init__(self, name, data):\n",
    "        self.name = name\n",
    "        self.data = data\n",
    "\n",
    "class EventSource:\n",
    "    def __init__(self):\n",
    "        self.events = []\n",
    "\n",
    "    def get_events(self):\n",
    "        return self.events\n",
    "\n",
    "store = EventStore()\n",
    "store.add_event(Event(\"sdfsdfsdf\", \"zsfsadf\"))\n"
   ]
  },
  {
   "cell_type": "code",
   "execution_count": null,
   "id": "7137dbe8-07a6-4db8-a4e6-35c96eef4934",
   "metadata": {},
   "outputs": [],
   "source": [
    "13.  CQRS (Command Query Responsibility Segregation)"
   ]
  },
  {
   "cell_type": "code",
   "execution_count": null,
   "id": "44a3c951-a2eb-4d2f-8119-ec720e60cddd",
   "metadata": {},
   "outputs": [],
   "source": [
    "class Product:\n",
    "    def __init__(self, id, name, price):\n",
    "        self.id = id\n",
    "        self.name=name\n",
    "        self.price=price\n",
    "class ProductRepository:\n",
    "    def __init__(self):\n",
    "        self.products = {}\n",
    "\n",
    "    def save(self, product:Product) -> None:\n",
    "        self.products[product.id] = product\n",
    "\n",
    "    def get(self, product_id):\n",
    "        return self.products.get(product_id)\n",
    "\n",
    "repository = ProductRepository()\n",
    "\n",
    "repository.save(Product(1,\"sdf\", 23))\n",
    "product = repository.get(1)\n"
   ]
  },
  {
   "cell_type": "code",
   "execution_count": null,
   "id": "9c3516c6-4cc8-4946-8e6c-472d1fafb1ea",
   "metadata": {},
   "outputs": [],
   "source": [
    "14. Specification Pattern"
   ]
  },
  {
   "cell_type": "code",
   "execution_count": null,
   "id": "38f5c0b4-f934-46f9-8159-aa77dc971e79",
   "metadata": {},
   "outputs": [],
   "source": [
    "class Product:\n",
    "    def __init__(self, name: str, price: float, category: str):\n",
    "        self.name = name\n",
    "        self.price=price\n",
    "        self.category = category\n",
    "\n",
    "class Specification:\n",
    "    def is_satisfied(self, product: Product) -> bool:\n",
    "        raise NotImplementedError(\"not implemented\")\n",
    "\n",
    "class PriceSpecification(Specification):\n",
    "    def __init__(self, max_price: float):\n",
    "        self.max_price = max_price\n",
    "\n",
    "    def is_sutisfied(self, product: Product)-> bool:\n",
    "        return product.price <= self.max_price\n",
    "\n",
    "class CategorySpecification(Specification):\n",
    "    def __init__(self, category: str):\n",
    "        self.category = category\n",
    "\n",
    "    def is_sutisfied(self, product: Product) -> bool:\n",
    "        return product.category == self.category\n",
    "\n",
    "\n",
    "class AndSpecification(Specification):\n",
    "    def __init__(self, *spec: Specification):\n",
    "        self.specs = specs\n",
    "\n",
    "    def is_satisfied(self, product: Product) -> bool:\n",
    "        return all(spec.is_satisfied(product) for spec in self.specs)\n",
    "\n",
    "class OrSpecification(Specification):\n",
    "    def __init__(self, *spec: Specification):\n",
    "        self.specs = specs\n",
    "\n",
    "    def is_satisfied(self, product: Product) -> bool:\n",
    "        return any(spec.is_satisfied(product) for spec in self.specs)\n",
    "\n",
    "class NotSpecification(Specification):\n",
    "    def __init__(self, *spec: Specification):\n",
    "        self.spec = spec\n",
    "\n",
    "    def is_satisfied(self, product: Product) -> bool:\n",
    "        return not self.spec.is_satisfied(product)\n",
    "\n",
    "\n",
    "products = [\n",
    "    Product(\"sdf\", 12, \"sdf\"),\n",
    "    Product(\"sdf1\", 13, \"sdf1\"),\n",
    "    Product(\"sdf2\", 14, \"sdf2\"),\n",
    "    Product(\"sdf3\", 15, \"sdf3\"),\n",
    "]\n",
    "\n",
    "\n",
    "price_spec = PriceSpecification(500)\n",
    "\n",
    "category_spec = CategorySpecification(\"sdf\")\n",
    "\n",
    "combined_spec = AndSpecification(price_spec, categy_spec)\n",
    "\n",
    "\n"
   ]
  }
 ],
 "metadata": {
  "kernelspec": {
   "display_name": "Python 3 (ipykernel)",
   "language": "python",
   "name": "python3"
  },
  "language_info": {
   "codemirror_mode": {
    "name": "ipython",
    "version": 3
   },
   "file_extension": ".py",
   "mimetype": "text/x-python",
   "name": "python",
   "nbconvert_exporter": "python",
   "pygments_lexer": "ipython3",
   "version": "3.11.7"
  }
 },
 "nbformat": 4,
 "nbformat_minor": 5
}
