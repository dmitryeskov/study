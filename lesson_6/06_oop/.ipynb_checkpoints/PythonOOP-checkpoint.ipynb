{
 "cells": [
  {
   "cell_type": "code",
   "execution_count": null,
   "id": "532666bf-3d02-4fc8-9e21-989d04454f22",
   "metadata": {},
   "outputs": [],
   "source": [
    "1. Объекты\n",
    "Все данные в Python представлены объектами или экземплярами классов. Объекты имеют тип, который определяет их поведение \n",
    "(например, целые числа, строки, списки и т.д.). \n",
    "Каждый объект имеет свои атрибуты (переменные, связанные с объектом) и \n",
    "методы (функции, которые могут быть вызваны для работы с объектом)."
   ]
  },
  {
   "cell_type": "code",
   "execution_count": null,
   "id": "0327c05a-26a8-43a9-b55b-d23d61ae93f4",
   "metadata": {},
   "outputs": [],
   "source": [
    "2. Классы"
   ]
  },
  {
   "cell_type": "code",
   "execution_count": null,
   "id": "2e0e3739-6382-419d-ab34-b455e296e284",
   "metadata": {},
   "outputs": [],
   "source": [
    "Классы в Python используются для определения типов данных и создания объектов (экземпляров класса). \n",
    "Определение класса содержит его атрибуты (переменные данных) \n",
    "и методы (функции, оперирующие данными класса)."
   ]
  },
  {
   "cell_type": "code",
   "execution_count": null,
   "id": "50f5df90-3155-4bfd-bb95-83dffe6e416c",
   "metadata": {},
   "outputs": [],
   "source": [
    "пример:"
   ]
  },
  {
   "cell_type": "code",
   "execution_count": 2,
   "id": "59e062c4-b9d6-40cd-bc45-85b8e8c505bd",
   "metadata": {},
   "outputs": [],
   "source": [
    "class MyClass:\n",
    "    class_attribute = 123 #атрибут класса\n",
    "    def __init__(self, x,y):\n",
    "        self.x = x #атрибуты экземпляра\n",
    "        self.y = y #атрибуты экземпляра\n",
    "    def instance_method(self):\n",
    "        return self.x + self.y\n",
    "\n",
    "    @classmethod\n",
    "    def class_method(cls):\n",
    "        return cls.class_attribute\n",
    "        \n",
    "    @staticmethod\n",
    "    def static_method():\n",
    "        return \"bla bla\"\n",
    "    \n",
    "        "
   ]
  },
  {
   "cell_type": "code",
   "execution_count": null,
   "id": "6f5e22a9-f48b-472f-a9f5-71660d50266d",
   "metadata": {},
   "outputs": [],
   "source": [
    "Атрибуты:"
   ]
  },
  {
   "cell_type": "code",
   "execution_count": null,
   "id": "058e8662-f938-48a9-87dd-0f12212c27e5",
   "metadata": {},
   "outputs": [],
   "source": [
    "Атрибуты - это переменные, связанные с экземплярами классов или с классами в целом.\n",
    "В Python атрибуты могут быть общедоступными (public), закрытыми (private) \n",
    "или защищенными (protected), в зависимости от соглашений об именовании и использовании."
   ]
  },
  {
   "cell_type": "code",
   "execution_count": null,
   "id": "53c13a64-69e2-4753-9d4f-6f87f60856cb",
   "metadata": {},
   "outputs": [],
   "source": [
    "пример:"
   ]
  },
  {
   "cell_type": "code",
   "execution_count": 3,
   "id": "733f83f6-c84d-4276-ae47-d08ecf2e163e",
   "metadata": {},
   "outputs": [
    {
     "name": "stdout",
     "output_type": "stream",
     "text": [
      "1\n",
      "123\n"
     ]
    }
   ],
   "source": [
    "obj = MyClass(1,2)\n",
    "print(obj.x)\n",
    "print(obj.class_attribute)"
   ]
  },
  {
   "cell_type": "code",
   "execution_count": null,
   "id": "effe7ae3-c303-411e-aed6-131bec17bc8d",
   "metadata": {},
   "outputs": [],
   "source": [
    "Методы:\n",
    "Методы - это функции, связанные с классами. Они могут быть методами экземпляра, методами класса или статическими методами.\n",
    "•\tМетоды экземпляра оперируют данными экземпляра и имеют доступ к его атрибутам через параметр self.\n",
    "•\tМетоды класса оперируют данными класса и имеют доступ к его атрибутам через параметр cls.\n",
    "•\tСтатические методы не требуют доступа к экземпляру или классу и используются в основном для группировки функциональности внутри класса.\n"
   ]
  },
  {
   "cell_type": "code",
   "execution_count": null,
   "id": "dbc223ad-b819-42d3-9398-579fe79c5507",
   "metadata": {},
   "outputs": [],
   "source": [
    "Наследование:\n",
    "Наследование позволяет создавать новые классы на основе существующих (родительских) классов.\n",
    "Новый класс (потомок) наследует атрибуты и методы родительского класса, \n",
    "что позволяет переиспользовать код и расширять функциональность."
   ]
  },
  {
   "cell_type": "code",
   "execution_count": null,
   "id": "64302a32-7d2b-41da-8942-e1538a9578bf",
   "metadata": {},
   "outputs": [],
   "source": [
    "пример"
   ]
  },
  {
   "cell_type": "code",
   "execution_count": null,
   "id": "8adecc51-de5a-4971-8b8f-c4483a1d4761",
   "metadata": {},
   "outputs": [],
   "source": [
    "class ChildClass(MyClass):\n",
    "    def __init__(self, x,y,z):\n",
    "        super().__init__(x,y)\n",
    "        self.z=z\n",
    "    def child_method(self):\n",
    "    return self.x*self.y*self.z"
   ]
  },
  {
   "cell_type": "code",
   "execution_count": null,
   "id": "99103a56-89a5-4722-8120-1b32bbcf0c9b",
   "metadata": {},
   "outputs": [],
   "source": [
    "Полиморфизм:\n",
    "Полиморфизм в Python позволяет использовать объекты разных классов с одинаковыми именами методов. \n",
    "Это достигается благодаря динамической типизации и динамическому связыванию методов"
   ]
  },
  {
   "cell_type": "code",
   "execution_count": null,
   "id": "fa2c5d99-c0c6-4c8e-9d03-46471977ce02",
   "metadata": {},
   "outputs": [],
   "source": [
    "пример:\n"
   ]
  },
  {
   "cell_type": "code",
   "execution_count": 5,
   "id": "8444ea6f-f44f-4138-8c60-8eb8654e6764",
   "metadata": {},
   "outputs": [
    {
     "name": "stdout",
     "output_type": "stream",
     "text": [
      "dog\n",
      "cat\n"
     ]
    }
   ],
   "source": [
    "class Animal:\n",
    "    def speak(self):\n",
    "        pass\n",
    "        \n",
    "class Dog(Animal):\n",
    "    def speak(self):\n",
    "        return \"dog\"\n",
    "class Cat(Animal):\n",
    "    def speak(self):\n",
    "        return \"cat\"\n",
    "def who_am_i(animal):\n",
    "    return animal.speak()\n",
    "dog = Dog()\n",
    "cat = Cat()\n",
    "print(who_am_i(dog))\n",
    "print(who_am_i(cat))"
   ]
  },
  {
   "cell_type": "code",
   "execution_count": null,
   "id": "b0f10a70-02f1-4af4-b56e-35fe26ffb0b5",
   "metadata": {},
   "outputs": [],
   "source": [
    "Специальные методы (магические методы):\n",
    "Специальные методы позволяют определить поведение объектов при\n",
    "выполнении определенных операций (например, сложение, вызов функций, доступ к атрибутам и т.д.). \n",
    "Эти методы начинаются и заканчиваются двойными подчеркиваниями (__)."
   ]
  },
  {
   "cell_type": "code",
   "execution_count": null,
   "id": "fc7c2579-7014-49b3-a2e0-3413cef6ffc0",
   "metadata": {},
   "outputs": [],
   "source": [
    "пример:"
   ]
  },
  {
   "cell_type": "code",
   "execution_count": 7,
   "id": "280e5b99-a8bf-44b1-8aa4-bf4c83bd06cb",
   "metadata": {},
   "outputs": [
    {
     "name": "stdout",
     "output_type": "stream",
     "text": [
      "MyClass with x=3\n"
     ]
    }
   ],
   "source": [
    "class MyClass:\n",
    "    def __init__(self, x):\n",
    "        self.x=x\n",
    "    def __str__(self):\n",
    "        return f\"MyClass with x={self.x}\"\n",
    "    def __add__(self, other):\n",
    "        return MyClass(self.x+other.x)\n",
    "obj1 = MyClass(1)\n",
    "obj2 = MyClass(2)\n",
    "print(obj1 + obj2)\n",
    "        \n",
    "    "
   ]
  },
  {
   "cell_type": "code",
   "execution_count": null,
   "id": "65e097cb-8b05-43c7-bec6-eb8da59bf83c",
   "metadata": {},
   "outputs": [],
   "source": [
    "New-style классы:"
   ]
  },
  {
   "cell_type": "code",
   "execution_count": null,
   "id": "97c8ad5c-4660-49c9-b671-f54f9f01f10a",
   "metadata": {},
   "outputs": [],
   "source": [
    "1.\tМножественное наследование: New-style классы поддерживают множественное наследование, что \n",
    "позволяет классам наследовать атрибуты и методы от нескольких родительских классов."
   ]
  },
  {
   "cell_type": "code",
   "execution_count": null,
   "id": "6646d482-8764-44e8-ac48-cb9b56e00cc0",
   "metadata": {},
   "outputs": [],
   "source": [
    "пример:"
   ]
  },
  {
   "cell_type": "code",
   "execution_count": 9,
   "id": "e700b2c3-1eb2-43dd-8171-65ef0e5eb604",
   "metadata": {},
   "outputs": [
    {
     "name": "stdout",
     "output_type": "stream",
     "text": [
      "hello from A\n"
     ]
    }
   ],
   "source": [
    "class A:\n",
    "    def method(self):\n",
    "        return \"hello from A\"\n",
    "class B:\n",
    "    def method(self):\n",
    "        return \"hello from B\"\n",
    "class C(A,B):\n",
    "    pass\n",
    "c = C()\n",
    "print(c.method())"
   ]
  },
  {
   "cell_type": "code",
   "execution_count": null,
   "id": "ed4c5304-ceb6-421f-a8d4-1aabc174bf9b",
   "metadata": {},
   "outputs": [],
   "source": [
    "2.\tМетоды и атрибуты класса: В new-style классах можно определять статические \n",
    "методы и свойства класса, что упрощает работу с данными класса и его поведением."
   ]
  },
  {
   "cell_type": "code",
   "execution_count": null,
   "id": "c2663d76-4f9a-4973-ae9a-2ef7938076c6",
   "metadata": {},
   "outputs": [],
   "source": [
    "пример:"
   ]
  },
  {
   "cell_type": "code",
   "execution_count": 11,
   "id": "313fa2ed-2f6c-4134-9278-a2464a4e1dc5",
   "metadata": {},
   "outputs": [
    {
     "name": "stdout",
     "output_type": "stream",
     "text": [
      "static\n",
      "1\n",
      "1\n",
      "setter in work\n",
      "11\n"
     ]
    }
   ],
   "source": [
    "class MyClass:\n",
    "    class_attr = 1\n",
    "    def __init__(self,x):\n",
    "        self.x=x\n",
    "    def inst_method(self):\n",
    "        return self.x+2\n",
    "\n",
    "    @staticmethod\n",
    "    def static_method():\n",
    "        return \"static\"\n",
    "\n",
    "    @classmethod\n",
    "    def class_method(cls):\n",
    "        return cls.class_attr\n",
    "\n",
    "    @property\n",
    "    def value(self):\n",
    "        return self.x\n",
    "\n",
    "    @value.setter\n",
    "    def value(self, new_value):\n",
    "        print(\"setter in work\")\n",
    "        self.x=new_value+1\n",
    "\n",
    "print(MyClass.static_method())\n",
    "print(MyClass.class_method())\n",
    "obj = MyClass(1)\n",
    "print(obj.value)\n",
    "obj.value=10\n",
    "print(obj.value)\n",
    "\n",
    "\n",
    "\n"
   ]
  },
  {
   "cell_type": "code",
   "execution_count": null,
   "id": "d2eb4459-455d-4ebf-85e7-108084294b69",
   "metadata": {},
   "outputs": [],
   "source": [
    "3.\tСпециальные методы (магические методы): New-style классы поддерживают полный набор \n",
    "специальных методов (например, __str__, __repr__, __len__ и т.д.), которые определяют различные\n",
    "аспекты поведения объекта и позволяют переопределять стандартные операции."
   ]
  },
  {
   "cell_type": "code",
   "execution_count": null,
   "id": "699665d3-b734-4053-bd01-f911204e89a2",
   "metadata": {},
   "outputs": [],
   "source": [
    "пример:\n"
   ]
  },
  {
   "cell_type": "code",
   "execution_count": 16,
   "id": "fe75e989-67a0-49da-9078-a0a028a58610",
   "metadata": {},
   "outputs": [
    {
     "name": "stdout",
     "output_type": "stream",
     "text": [
      "point (1, 2)\n",
      "4\n",
      "False\n",
      "False\n"
     ]
    }
   ],
   "source": [
    "class Point:\n",
    "    def __init__(self, x,y):\n",
    "        self.x=x\n",
    "        self.y=y\n",
    "    def __repr__(self):\n",
    "        return f\"point ({self.x}, {self.y})\"\n",
    "p = Point(1,2)\n",
    "print(repr(p))\n",
    "\n",
    "class MyList:\n",
    "    def __init__(self, data):\n",
    "        self.data = data\n",
    "    def __len__(self):\n",
    "        return len(self.data)\n",
    "lst = MyList([1,2,3,4])\n",
    "print(len(lst))\n",
    "\n",
    "class Rec:\n",
    "    def __init__(self, w,h):\n",
    "        self.w=w\n",
    "        self.h=h\n",
    "    def __eq__(self, other):\n",
    "        return self.w == other.w and self.h==other.h\n",
    "    def __lt__(self, other):\n",
    "        return self.area() < other.area()\n",
    "    def area(self):\n",
    "        return self.h*self.w\n",
    "rect1 = Rec(3,4)\n",
    "rect2 = Rec(4,3)\n",
    "print(rect1 == rect2)\n",
    "print(rect1 < rect2)\n",
    "\n",
    "        \n"
   ]
  },
  {
   "cell_type": "code",
   "execution_count": null,
   "id": "16cc9e84-b941-4301-96c1-315ed7cec06a",
   "metadata": {},
   "outputs": [],
   "source": [
    "4.\tДескрипторы и слоты: New-style классы поддерживают использование дескрипторов и слотов, \n",
    "что предоставляет более тонкую настройку поведения атрибутов и управление памятью объектов."
   ]
  },
  {
   "cell_type": "code",
   "execution_count": null,
   "id": "6a4c5e88-fc8b-4ef3-8578-9228b85dc990",
   "metadata": {},
   "outputs": [],
   "source": [
    "пример: слоты"
   ]
  },
  {
   "cell_type": "code",
   "execution_count": 18,
   "id": "8d9ef500-0677-44d1-9380-0a30a625f17c",
   "metadata": {},
   "outputs": [],
   "source": [
    "\n",
    "class Point:\n",
    "    __slots__ = ('x', 'y')\n",
    "\n",
    "    def __init__(self,x,y):\n",
    "        self.x=x\n",
    "        self.y=y\n",
    "p = Point(3,4)\n",
    "p.x=10\n",
    "p.y=15\n",
    "p.z=2"
   ]
  },
  {
   "cell_type": "code",
   "execution_count": null,
   "id": "6f023ec0-76bc-4e53-817d-747f9bbfe2b6",
   "metadata": {},
   "outputs": [],
   "source": [
    "__slots__ - это механизм оптимизации использования памяти в Python,\n",
    "который позволяет явно указать фиксированный набор атрибутов экземпляра класса.\n",
    "Использование __slots__ заменяет динамическое создание атрибутов словарем экземпляра на массив фиксированного размера."
   ]
  },
  {
   "cell_type": "code",
   "execution_count": null,
   "id": "16ae4e11-e11c-40ad-b59f-0c27399a0567",
   "metadata": {},
   "outputs": [],
   "source": [
    "пример дескрипторы"
   ]
  },
  {
   "cell_type": "code",
   "execution_count": 19,
   "id": "7c117722-0863-4ec6-acd6-c9109f61ad9b",
   "metadata": {},
   "outputs": [
    {
     "ename": "ValueError",
     "evalue": "invalid email",
     "output_type": "error",
     "traceback": [
      "\u001b[1;31m---------------------------------------------------------------------------\u001b[0m",
      "\u001b[1;31mValueError\u001b[0m                                Traceback (most recent call last)",
      "Cell \u001b[1;32mIn[19], line 21\u001b[0m\n\u001b[0;32m     18\u001b[0m         \u001b[38;5;28mself\u001b[39m\u001b[38;5;241m.\u001b[39memail\u001b[38;5;241m=\u001b[39memail\n\u001b[0;32m     20\u001b[0m user \u001b[38;5;241m=\u001b[39m User(\u001b[38;5;124m\"\u001b[39m\u001b[38;5;124mA\u001b[39m\u001b[38;5;124m\"\u001b[39m, \u001b[38;5;124m\"\u001b[39m\u001b[38;5;124ma@dddd.com\u001b[39m\u001b[38;5;124m\"\u001b[39m)\n\u001b[1;32m---> 21\u001b[0m user\u001b[38;5;241m.\u001b[39memail \u001b[38;5;241m=\u001b[39m \u001b[38;5;124m\"\u001b[39m\u001b[38;5;124msdf\u001b[39m\u001b[38;5;124m\"\u001b[39m\n\u001b[0;32m     22\u001b[0m \u001b[38;5;28mprint\u001b[39m(user\u001b[38;5;241m.\u001b[39memail)\n",
      "Cell \u001b[1;32mIn[19], line 11\u001b[0m, in \u001b[0;36mEmailDesc.__set__\u001b[1;34m(self, instance, value)\u001b[0m\n\u001b[0;32m      9\u001b[0m \u001b[38;5;28;01mdef\u001b[39;00m \u001b[38;5;21m__set__\u001b[39m(\u001b[38;5;28mself\u001b[39m, instance, value):\n\u001b[0;32m     10\u001b[0m     \u001b[38;5;28;01mif\u001b[39;00m \u001b[38;5;129;01mnot\u001b[39;00m re\u001b[38;5;241m.\u001b[39mmatch(\u001b[38;5;124mr\u001b[39m\u001b[38;5;124m\"\u001b[39m\u001b[38;5;124m[^@]+@[^@]+\u001b[39m\u001b[38;5;124m\\\u001b[39m\u001b[38;5;124m.[^@]+\u001b[39m\u001b[38;5;124m\"\u001b[39m, value):\n\u001b[1;32m---> 11\u001b[0m         \u001b[38;5;28;01mraise\u001b[39;00m \u001b[38;5;167;01mValueError\u001b[39;00m(\u001b[38;5;124m\"\u001b[39m\u001b[38;5;124minvalid email\u001b[39m\u001b[38;5;124m\"\u001b[39m)\n",
      "\u001b[1;31mValueError\u001b[0m: invalid email"
     ]
    }
   ],
   "source": [
    "import re\n",
    "\n",
    "class EmailDesc:\n",
    "    def __init__(self, name):\n",
    "        self.name=name\n",
    "\n",
    "    def __get__(self, instance, owner):\n",
    "        return getattr(instance, self.name, None)\n",
    "    def __set__(self, instance, value):\n",
    "        if not re.match(r\"[^@]+@[^@]+\\.[^@]+\", value):\n",
    "            raise ValueError(\"invalid email\")\n",
    "\n",
    "class User:\n",
    "    email = EmailDesc('email')\n",
    "    \n",
    "    def __init__(self, name, email):\n",
    "        self.name=name\n",
    "        self.email=email\n",
    "\n",
    "user = User(\"A\", \"a@dddd.com\")\n",
    "user.email = \"sdf\"\n",
    "print(user.email)"
   ]
  },
  {
   "cell_type": "code",
   "execution_count": null,
   "id": "699a8d54-af5c-4c63-8868-caf7b91f95a6",
   "metadata": {},
   "outputs": [],
   "source": [
    "__new__ - это специальный метод, который вызывается для создания нового экземпляра класса до\n",
    "его инициализации методом __init__. Он часто переопределяется \n",
    "в случаях, когда требуется более тонкая настройка процесса создания объекта."
   ]
  },
  {
   "cell_type": "code",
   "execution_count": null,
   "id": "4f4d9811-23fb-4c04-9052-b3ee11c406c2",
   "metadata": {},
   "outputs": [],
   "source": [
    "пример"
   ]
  },
  {
   "cell_type": "code",
   "execution_count": null,
   "id": "87266ecc-eb44-47de-9380-7f264a08ba11",
   "metadata": {},
   "outputs": [],
   "source": []
  },
  {
   "cell_type": "code",
   "execution_count": null,
   "id": "ebe860e4-05ec-446d-85ff-085cb2c5bca2",
   "metadata": {},
   "outputs": [],
   "source": [
    "Name Mangling - это техника, используемая в Python для \"скрытия\" атрибутов класса от\n",
    "внешнего доступа. Имена атрибутов, которые начинаются с двух подчеркиваний (__),\n",
    "автоматически переименовываются в _<className>__<attributeName> для предотвращения конфликтов имен в подклассах."
   ]
  },
  {
   "cell_type": "code",
   "execution_count": null,
   "id": "05512eeb-0b97-42db-87e7-2d236f5ae739",
   "metadata": {},
   "outputs": [],
   "source": [
    "пример"
   ]
  },
  {
   "cell_type": "code",
   "execution_count": 20,
   "id": "7f250b1e-040a-47d1-85b9-d45c2b16ce7a",
   "metadata": {},
   "outputs": [
    {
     "ename": "AttributeError",
     "evalue": "'MyClass' object has no attribute '__private_var'",
     "output_type": "error",
     "traceback": [
      "\u001b[1;31m---------------------------------------------------------------------------\u001b[0m",
      "\u001b[1;31mAttributeError\u001b[0m                            Traceback (most recent call last)",
      "Cell \u001b[1;32mIn[20], line 5\u001b[0m\n\u001b[0;32m      3\u001b[0m         \u001b[38;5;28mself\u001b[39m\u001b[38;5;241m.\u001b[39m__private_var \u001b[38;5;241m=\u001b[39m \u001b[38;5;241m10\u001b[39m\n\u001b[0;32m      4\u001b[0m obj \u001b[38;5;241m=\u001b[39m MyClass()\n\u001b[1;32m----> 5\u001b[0m \u001b[38;5;28mprint\u001b[39m(obj\u001b[38;5;241m.\u001b[39m__private_var)\n",
      "\u001b[1;31mAttributeError\u001b[0m: 'MyClass' object has no attribute '__private_var'"
     ]
    }
   ],
   "source": [
    "class MyClass:\n",
    "    def __init__(self):\n",
    "        self.__private_var = 10\n",
    "obj = MyClass()\n",
    "print(obj.__private_var)\n",
    "        "
   ]
  },
  {
   "cell_type": "code",
   "execution_count": null,
   "id": "de95b1d1-0f3c-42bd-9432-c2c3244173f1",
   "metadata": {},
   "outputs": [],
   "source": [
    "@classmethod используется для создания методов класса, которые принимают первым аргументом ссылку на класс (cls). \n",
    "Это позволяет методу оперировать с классом, а не с экземплярами класса."
   ]
  },
  {
   "cell_type": "code",
   "execution_count": null,
   "id": "6909cd47-6345-4e49-aa5c-c2f58d4539dc",
   "metadata": {},
   "outputs": [],
   "source": [
    "пример"
   ]
  },
  {
   "cell_type": "code",
   "execution_count": null,
   "id": "ae7da796-a398-46d8-b90b-87c22f3b3fc1",
   "metadata": {},
   "outputs": [],
   "source": []
  },
  {
   "cell_type": "code",
   "execution_count": null,
   "id": "e4cc24c4-caf9-4478-84ea-4c8209cc600e",
   "metadata": {},
   "outputs": [],
   "source": [
    "@classmethodonly - это специальная версия декоратора, которая гарантирует,\n",
    "что метод может быть вызван только через класс, а не через экземпляры этого класса. \n",
    "Он используется для создания методов, которые должны работать только с самим классом."
   ]
  },
  {
   "cell_type": "code",
   "execution_count": null,
   "id": "f8f770d1-995a-49c0-91d0-a82d860260c4",
   "metadata": {},
   "outputs": [],
   "source": [
    "пример"
   ]
  },
  {
   "cell_type": "code",
   "execution_count": 22,
   "id": "6cf334ed-30a2-4a08-a78f-32bb0ebe4be1",
   "metadata": {},
   "outputs": [
    {
     "ename": "NameError",
     "evalue": "name 'classmethodonly' is not defined",
     "output_type": "error",
     "traceback": [
      "\u001b[1;31m---------------------------------------------------------------------------\u001b[0m",
      "\u001b[1;31mNameError\u001b[0m                                 Traceback (most recent call last)",
      "Cell \u001b[1;32mIn[22], line 1\u001b[0m\n\u001b[1;32m----> 1\u001b[0m \u001b[38;5;28;01mclass\u001b[39;00m \u001b[38;5;21;01mMyClass\u001b[39;00m:\n\u001b[0;32m      2\u001b[0m     class_str\u001b[38;5;241m=\u001b[39m\u001b[38;5;241m10\u001b[39m\n\u001b[0;32m      3\u001b[0m     \u001b[38;5;28;01mdef\u001b[39;00m \u001b[38;5;21m__init__\u001b[39m(\u001b[38;5;28mself\u001b[39m, init):\n",
      "Cell \u001b[1;32mIn[22], line 6\u001b[0m, in \u001b[0;36mMyClass\u001b[1;34m()\u001b[0m\n\u001b[0;32m      3\u001b[0m \u001b[38;5;28;01mdef\u001b[39;00m \u001b[38;5;21m__init__\u001b[39m(\u001b[38;5;28mself\u001b[39m, init):\n\u001b[0;32m      4\u001b[0m     \u001b[38;5;28mself\u001b[39m\u001b[38;5;241m.\u001b[39mclass_str \u001b[38;5;241m=\u001b[39m init \n\u001b[1;32m----> 6\u001b[0m \u001b[38;5;129m@classmethodonly\u001b[39m\n\u001b[0;32m      7\u001b[0m \u001b[38;5;28;01mdef\u001b[39;00m \u001b[38;5;21mclass_method\u001b[39m(\u001b[38;5;28mcls\u001b[39m):\n\u001b[0;32m      8\u001b[0m     \u001b[38;5;28;01mreturn\u001b[39;00m \u001b[38;5;28mcls\u001b[39m\u001b[38;5;241m.\u001b[39mclass_str\n",
      "\u001b[1;31mNameError\u001b[0m: name 'classmethodonly' is not defined"
     ]
    }
   ],
   "source": [
    "class MyClass:\n",
    "    class_str=10\n",
    "    def __init__(self, init):\n",
    "        self.class_str = init \n",
    "\n",
    "    @classmethodonly\n",
    "    def class_method(cls):\n",
    "        return cls.class_str\n",
    "print(MyClass.class_method())\n",
    "obj = MyClass(20)\n",
    "print(obj.class_method())\n",
    "\n",
    "    "
   ]
  },
  {
   "cell_type": "code",
   "execution_count": null,
   "id": "4f826e65-a3bf-4a9b-8d73-769ec87c3a85",
   "metadata": {},
   "outputs": [],
   "source": [
    "@staticmethod используется для определения статических методов в классе, \n",
    "которые не принимают ссылку на класс (cls) или экземпляр класса (self) в качестве первого аргумента.\n",
    "Они являются чистыми функциями и работают независимо от состояния экземпляра или класса."
   ]
  },
  {
   "cell_type": "code",
   "execution_count": null,
   "id": "b65c38d2-7075-4395-b815-c4533a2e8793",
   "metadata": {},
   "outputs": [],
   "source": [
    "пример"
   ]
  },
  {
   "cell_type": "code",
   "execution_count": null,
   "id": "7b462762-f18c-4c39-af85-bdc587288a79",
   "metadata": {},
   "outputs": [],
   "source": []
  },
  {
   "cell_type": "code",
   "execution_count": null,
   "id": "7629d132-3721-420e-b188-c00c3a35c2df",
   "metadata": {},
   "outputs": [],
   "source": [
    "dataclass - это декоратор в Python, представленный в стандартной библиотеке dataclasses,\n",
    "который автоматически добавляет стандартные методы, такие как __init__, __repr__, __eq__ и другие, на основе полей класса. \n",
    "Это упрощает создание классов, которые представляют простые структуры данных"
   ]
  },
  {
   "cell_type": "code",
   "execution_count": null,
   "id": "18a21fe6-a088-448f-a8a7-6abe6f6620ee",
   "metadata": {},
   "outputs": [],
   "source": [
    "пример"
   ]
  },
  {
   "cell_type": "code",
   "execution_count": null,
   "id": "16f7eef1-8cbb-45e6-85a7-51c544ab28e9",
   "metadata": {},
   "outputs": [],
   "source": []
  },
  {
   "cell_type": "code",
   "execution_count": null,
   "id": "ab4e0016-8c1e-4d22-8d06-e09dce92e8b6",
   "metadata": {},
   "outputs": [],
   "source": []
  }
 ],
 "metadata": {
  "kernelspec": {
   "display_name": "Python 3 (ipykernel)",
   "language": "python",
   "name": "python3"
  },
  "language_info": {
   "codemirror_mode": {
    "name": "ipython",
    "version": 3
   },
   "file_extension": ".py",
   "mimetype": "text/x-python",
   "name": "python",
   "nbconvert_exporter": "python",
   "pygments_lexer": "ipython3",
   "version": "3.11.7"
  }
 },
 "nbformat": 4,
 "nbformat_minor": 5
}
